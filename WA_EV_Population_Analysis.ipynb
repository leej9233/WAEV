{
 "cells": [
  {
   "cell_type": "markdown",
   "id": "79fb4f28",
   "metadata": {
    "id": "79fb4f28"
   },
   "source": [
    "# EV Population Classification"
   ]
  },
  {
   "cell_type": "markdown",
   "id": "bd6768cd",
   "metadata": {
    "id": "bd6768cd"
   },
   "source": [
    "Dataset from https://data.wa.gov/Transportation/Electric-Vehicle-Population-Data/f6w7-q2d2/about_data</br>\n",
    "Kaggle link: https://www.kaggle.com/datasets/usamabuttar/electric-vehicle-population-data-washington-us"
   ]
  },
  {
   "cell_type": "markdown",
   "id": "e6e34f83",
   "metadata": {
    "id": "e6e34f83"
   },
   "source": [
    "## Notes (About the Dataset)"
   ]
  },
  {
   "cell_type": "markdown",
   "id": "07b6f66b",
   "metadata": {
    "id": "07b6f66b"
   },
   "source": [
    "This dataset shows the Battery Electric Vehicles (BEVs) and Plug-in Hybrid Electric Vehicles (PHEVs) that are currently registered through Washington State Department of Licensing (DOL).\n",
    "\n",
    "1. A Battery Electric Vehicle (BEV) is an all-electric vehicle using one or more batteries to store the electrical energy that powers the motor and is charged by plugging the vehicle in to an electric power source. A Plug-in Hybrid Electric Vehicle (PHEV) is a vehicle that uses one or more batteries to power an electric motor; uses another fuel, such as gasoline or diesel, to power an internal combustion engine or other propulsion source; and is charged by plugging the vehicle in to an electric power source.\n",
    "2. Clean Alternative Fuel Vehicle (CAFV) Eligibility is based on the fuel requirement and electric-only range requirement as outlined in RCW 82.08.809 and RCW 82.12.809 to be eligible for Alternative Fuel Vehicles retail sales and Washington State use tax exemptions. Sales or leases of these vehicles must occur on or after 8/1/2019 and meet the purchase price requirements to be eligible for Alternative Fuel Vehicles retail sales and Washington State use tax exemptions.\n",
    "3. \tMonthly count of vehicles for a county may change from this report and prior reports. Processes were implemented to more accurately assign county at the time of registration.\n",
    "4. Electric Range is no longer maintained for Battery Electric Vehicles (BEV) because new BEVs have an electric range of 30 miles or more. Zero (0) will be entered where the electric range has not been researched."
   ]
  },
  {
   "cell_type": "markdown",
   "id": "331e6695",
   "metadata": {
    "id": "331e6695"
   },
   "source": [
    "## Importing Libraries"
   ]
  },
  {
   "cell_type": "code",
   "execution_count": 1,
   "id": "a5dcc5c1",
   "metadata": {
    "id": "a5dcc5c1"
   },
   "outputs": [],
   "source": [
    "# Importing Libraries\n",
    "import pandas as pd\n",
    "import numpy as np\n",
    "import matplotlib.pyplot as plt\n",
    "import seaborn as sns"
   ]
  },
  {
   "cell_type": "markdown",
   "id": "d52e3bfa",
   "metadata": {
    "id": "d52e3bfa"
   },
   "source": [
    "## Loading Dataset"
   ]
  },
  {
   "cell_type": "code",
   "execution_count": 2,
   "id": "adae3cc4",
   "metadata": {
    "id": "adae3cc4"
   },
   "outputs": [],
   "source": [
    "# Read CSV file\n",
    "df = pd.read_csv('./ev_population_data.csv')"
   ]
  },
  {
   "cell_type": "code",
   "execution_count": 3,
   "id": "78b3acb2",
   "metadata": {
    "id": "78b3acb2",
    "outputId": "6b00af5a-33f0-429e-a39b-c061012f0558"
   },
   "outputs": [
    {
     "data": {
      "text/html": [
       "<div>\n",
       "<style scoped>\n",
       "    .dataframe tbody tr th:only-of-type {\n",
       "        vertical-align: middle;\n",
       "    }\n",
       "\n",
       "    .dataframe tbody tr th {\n",
       "        vertical-align: top;\n",
       "    }\n",
       "\n",
       "    .dataframe thead th {\n",
       "        text-align: right;\n",
       "    }\n",
       "</style>\n",
       "<table border=\"1\" class=\"dataframe\">\n",
       "  <thead>\n",
       "    <tr style=\"text-align: right;\">\n",
       "      <th></th>\n",
       "      <th>VIN (1-10)</th>\n",
       "      <th>County</th>\n",
       "      <th>City</th>\n",
       "      <th>State</th>\n",
       "      <th>Postal Code</th>\n",
       "      <th>Model Year</th>\n",
       "      <th>Make</th>\n",
       "      <th>Model</th>\n",
       "      <th>Electric Vehicle Type</th>\n",
       "      <th>Clean Alternative Fuel Vehicle (CAFV) Eligibility</th>\n",
       "      <th>Electric Range</th>\n",
       "      <th>Base MSRP</th>\n",
       "      <th>Legislative District</th>\n",
       "      <th>DOL Vehicle ID</th>\n",
       "      <th>Vehicle Location</th>\n",
       "      <th>Electric Utility</th>\n",
       "      <th>2020 Census Tract</th>\n",
       "    </tr>\n",
       "  </thead>\n",
       "  <tbody>\n",
       "    <tr>\n",
       "      <th>0</th>\n",
       "      <td>3C3CFFGE4E</td>\n",
       "      <td>Yakima</td>\n",
       "      <td>Yakima</td>\n",
       "      <td>WA</td>\n",
       "      <td>98902.0</td>\n",
       "      <td>2014</td>\n",
       "      <td>FIAT</td>\n",
       "      <td>500</td>\n",
       "      <td>Battery Electric Vehicle (BEV)</td>\n",
       "      <td>Clean Alternative Fuel Vehicle Eligible</td>\n",
       "      <td>87</td>\n",
       "      <td>0</td>\n",
       "      <td>14.0</td>\n",
       "      <td>1593721</td>\n",
       "      <td>POINT (-120.524012 46.5973939)</td>\n",
       "      <td>PACIFICORP</td>\n",
       "      <td>5.307700e+10</td>\n",
       "    </tr>\n",
       "    <tr>\n",
       "      <th>1</th>\n",
       "      <td>5YJXCBE40H</td>\n",
       "      <td>Thurston</td>\n",
       "      <td>Olympia</td>\n",
       "      <td>WA</td>\n",
       "      <td>98513.0</td>\n",
       "      <td>2017</td>\n",
       "      <td>TESLA</td>\n",
       "      <td>MODEL X</td>\n",
       "      <td>Battery Electric Vehicle (BEV)</td>\n",
       "      <td>Clean Alternative Fuel Vehicle Eligible</td>\n",
       "      <td>200</td>\n",
       "      <td>0</td>\n",
       "      <td>2.0</td>\n",
       "      <td>257167501</td>\n",
       "      <td>POINT (-122.817545 46.98876)</td>\n",
       "      <td>PUGET SOUND ENERGY INC</td>\n",
       "      <td>5.306701e+10</td>\n",
       "    </tr>\n",
       "    <tr>\n",
       "      <th>2</th>\n",
       "      <td>3MW39FS03P</td>\n",
       "      <td>King</td>\n",
       "      <td>Renton</td>\n",
       "      <td>WA</td>\n",
       "      <td>98058.0</td>\n",
       "      <td>2023</td>\n",
       "      <td>BMW</td>\n",
       "      <td>330E</td>\n",
       "      <td>Plug-in Hybrid Electric Vehicle (PHEV)</td>\n",
       "      <td>Not eligible due to low battery range</td>\n",
       "      <td>20</td>\n",
       "      <td>0</td>\n",
       "      <td>11.0</td>\n",
       "      <td>224071816</td>\n",
       "      <td>POINT (-122.1298876 47.4451257)</td>\n",
       "      <td>PUGET SOUND ENERGY INC||CITY OF TACOMA - (WA)</td>\n",
       "      <td>5.303303e+10</td>\n",
       "    </tr>\n",
       "    <tr>\n",
       "      <th>3</th>\n",
       "      <td>7PDSGABA8P</td>\n",
       "      <td>Snohomish</td>\n",
       "      <td>Bothell</td>\n",
       "      <td>WA</td>\n",
       "      <td>98012.0</td>\n",
       "      <td>2023</td>\n",
       "      <td>RIVIAN</td>\n",
       "      <td>R1S</td>\n",
       "      <td>Battery Electric Vehicle (BEV)</td>\n",
       "      <td>Eligibility unknown as battery range has not b...</td>\n",
       "      <td>0</td>\n",
       "      <td>0</td>\n",
       "      <td>21.0</td>\n",
       "      <td>260084653</td>\n",
       "      <td>POINT (-122.1873 47.820245)</td>\n",
       "      <td>PUGET SOUND ENERGY INC</td>\n",
       "      <td>5.306105e+10</td>\n",
       "    </tr>\n",
       "    <tr>\n",
       "      <th>4</th>\n",
       "      <td>5YJ3E1EB8L</td>\n",
       "      <td>King</td>\n",
       "      <td>Kent</td>\n",
       "      <td>WA</td>\n",
       "      <td>98031.0</td>\n",
       "      <td>2020</td>\n",
       "      <td>TESLA</td>\n",
       "      <td>MODEL 3</td>\n",
       "      <td>Battery Electric Vehicle (BEV)</td>\n",
       "      <td>Clean Alternative Fuel Vehicle Eligible</td>\n",
       "      <td>322</td>\n",
       "      <td>0</td>\n",
       "      <td>33.0</td>\n",
       "      <td>253771913</td>\n",
       "      <td>POINT (-122.2012521 47.3931814)</td>\n",
       "      <td>PUGET SOUND ENERGY INC||CITY OF TACOMA - (WA)</td>\n",
       "      <td>5.303303e+10</td>\n",
       "    </tr>\n",
       "  </tbody>\n",
       "</table>\n",
       "</div>"
      ],
      "text/plain": [
       "   VIN (1-10)     County     City State  Postal Code  Model Year    Make  \\\n",
       "0  3C3CFFGE4E     Yakima   Yakima    WA      98902.0        2014    FIAT   \n",
       "1  5YJXCBE40H   Thurston  Olympia    WA      98513.0        2017   TESLA   \n",
       "2  3MW39FS03P       King   Renton    WA      98058.0        2023     BMW   \n",
       "3  7PDSGABA8P  Snohomish  Bothell    WA      98012.0        2023  RIVIAN   \n",
       "4  5YJ3E1EB8L       King     Kent    WA      98031.0        2020   TESLA   \n",
       "\n",
       "     Model                   Electric Vehicle Type  \\\n",
       "0      500          Battery Electric Vehicle (BEV)   \n",
       "1  MODEL X          Battery Electric Vehicle (BEV)   \n",
       "2     330E  Plug-in Hybrid Electric Vehicle (PHEV)   \n",
       "3      R1S          Battery Electric Vehicle (BEV)   \n",
       "4  MODEL 3          Battery Electric Vehicle (BEV)   \n",
       "\n",
       "   Clean Alternative Fuel Vehicle (CAFV) Eligibility  Electric Range  \\\n",
       "0            Clean Alternative Fuel Vehicle Eligible              87   \n",
       "1            Clean Alternative Fuel Vehicle Eligible             200   \n",
       "2              Not eligible due to low battery range              20   \n",
       "3  Eligibility unknown as battery range has not b...               0   \n",
       "4            Clean Alternative Fuel Vehicle Eligible             322   \n",
       "\n",
       "   Base MSRP  Legislative District  DOL Vehicle ID  \\\n",
       "0          0                  14.0         1593721   \n",
       "1          0                   2.0       257167501   \n",
       "2          0                  11.0       224071816   \n",
       "3          0                  21.0       260084653   \n",
       "4          0                  33.0       253771913   \n",
       "\n",
       "                  Vehicle Location  \\\n",
       "0   POINT (-120.524012 46.5973939)   \n",
       "1     POINT (-122.817545 46.98876)   \n",
       "2  POINT (-122.1298876 47.4451257)   \n",
       "3      POINT (-122.1873 47.820245)   \n",
       "4  POINT (-122.2012521 47.3931814)   \n",
       "\n",
       "                                Electric Utility  2020 Census Tract  \n",
       "0                                     PACIFICORP       5.307700e+10  \n",
       "1                         PUGET SOUND ENERGY INC       5.306701e+10  \n",
       "2  PUGET SOUND ENERGY INC||CITY OF TACOMA - (WA)       5.303303e+10  \n",
       "3                         PUGET SOUND ENERGY INC       5.306105e+10  \n",
       "4  PUGET SOUND ENERGY INC||CITY OF TACOMA - (WA)       5.303303e+10  "
      ]
     },
     "execution_count": 3,
     "metadata": {},
     "output_type": "execute_result"
    }
   ],
   "source": [
    "df.head()"
   ]
  },
  {
   "cell_type": "markdown",
   "id": "b71f58e0",
   "metadata": {
    "id": "b71f58e0"
   },
   "source": [
    "**Columns in the dataset**\n",
    "* Vin#: The 1st 10 characters of each vehicle's Vehicle Identification Number (VIN).\n",
    "* County: This is the geographic region of a state that a vehicle's owner is listed to reside within. Vehicles registered in Washington state may be located in other states.\n",
    "* City: The city in which the registered owner resides.\n",
    "* State: This is the geographic region of the country associated with the record. These addresses may be located in other states.\n",
    "* Zip: The 5 digit zip code in which the registered owner resides.\n",
    "* Model Yr: The model year of the vehicle, determined by decoding the Vehicle Identification Number (VIN).\n",
    "* EV Type: This distinguishes the vehicle as all electric or a plug-in hybrid.\n",
    "* CAFV Eligibility: This categorizes vehicle as Clean Alternative Fuel Vehicles (CAFVs) based on the fuel requirement and electric-only range requirement in House Bill 2042 as passed in the 2019 legislative session.\n",
    "* Electric Range: Describes how far a vehicle can travel purely on its electric charge.\n",
    "* MSRP: This is the lowest Manufacturer's Suggested Retail Price (MSRP) for any trim level of the model in question.\n",
    "* Leg Dist: The specific section of Washington State that the vehicle's owner resides in, as represented in the state legislature.\n",
    "* DOL ID: Unique number assigned to each vehicle by Department of Licensing for identification purposes.\n",
    "* Vehicle Location: The center of the ZIP Code for the registered vehicle.\n",
    "* Electric Utility: This is the electric power retail service territories serving the address of the registered vehicle. All ownership types for areas in Washington are included: federal, investor owned, municipal, political subdivision, and cooperative. If the address for the registered vehicle falls into an area with overlapping electric power retail service territories then a single pipe | delimits utilities of same TYPE and a double pipe || delimits utilities of different types. We combined vehicle address and Homeland Infrastructure Foundation Level Database (HIFLD) (https://gii.dhs.gov/HIFLD) Retail_Service_Territories feature layer using a geographic information system to assign values for this field. Blanks occur for vehicles with addresses outside of Washington or for addresses falling into areas in Washington not containing a mapped electric power retail service territory in the source data.\n",
    "* 2020 Census Tract: The census tract identifier is a combination of the state, county, and census tract codes as assigned by the United States Census Bureau in the 2020 census, also known as Geographic Identifier (GEOID). More information can be found here: https://www.census.gov/programs-surveys/geography/about/glossary.html#par_textimage_13 https://www.census.gov/programs-surveys/geography/guidance/geo-identifiers.html"
   ]
  },
  {
   "cell_type": "code",
   "execution_count": 4,
   "id": "2a9e9b07",
   "metadata": {
    "id": "2a9e9b07",
    "outputId": "b603e91c-3781-45be-a2b8-42778c478798"
   },
   "outputs": [
    {
     "name": "stdout",
     "output_type": "stream",
     "text": [
      "<class 'pandas.core.frame.DataFrame'>\n",
      "RangeIndex: 166800 entries, 0 to 166799\n",
      "Data columns (total 17 columns):\n",
      " #   Column                                             Non-Null Count   Dtype  \n",
      "---  ------                                             --------------   -----  \n",
      " 0   VIN (1-10)                                         166800 non-null  object \n",
      " 1   County                                             166795 non-null  object \n",
      " 2   City                                               166795 non-null  object \n",
      " 3   State                                              166800 non-null  object \n",
      " 4   Postal Code                                        166795 non-null  float64\n",
      " 5   Model Year                                         166800 non-null  int64  \n",
      " 6   Make                                               166800 non-null  object \n",
      " 7   Model                                              166800 non-null  object \n",
      " 8   Electric Vehicle Type                              166800 non-null  object \n",
      " 9   Clean Alternative Fuel Vehicle (CAFV) Eligibility  166800 non-null  object \n",
      " 10  Electric Range                                     166800 non-null  int64  \n",
      " 11  Base MSRP                                          166800 non-null  int64  \n",
      " 12  Legislative District                               166440 non-null  float64\n",
      " 13  DOL Vehicle ID                                     166800 non-null  int64  \n",
      " 14  Vehicle Location                                   166790 non-null  object \n",
      " 15  Electric Utility                                   166795 non-null  object \n",
      " 16  2020 Census Tract                                  166795 non-null  float64\n",
      "dtypes: float64(3), int64(4), object(10)\n",
      "memory usage: 21.6+ MB\n"
     ]
    }
   ],
   "source": [
    "df.info()"
   ]
  },
  {
   "cell_type": "code",
   "execution_count": 5,
   "id": "1d255330",
   "metadata": {
    "id": "1d255330"
   },
   "outputs": [],
   "source": [
    "df = df.rename(columns={'VIN (1-10)': 'VIN',\n",
    "                        'Postal Code': 'ZIP',\n",
    "                        'Model Year': 'ModYr',\n",
    "                        'Electric Vehicle Type': 'EVType',\n",
    "                        'Clean Alternative Fuel Vehicle (CAFV) Eligibility': 'CAFV',\n",
    "                        'Electric Range': 'EleRange',\n",
    "                        'Base MSRP': 'MSRP',\n",
    "                        'Legislative District': 'LegDist',\n",
    "                        'DOL Vehicle ID': 'DOLID',\n",
    "                        'Vehicle Location': 'Location',\n",
    "                        'Electric Utility': 'EleUtil',\n",
    "                        '2020 Census Tract': 'CensusTract'})"
   ]
  },
  {
   "cell_type": "markdown",
   "id": "fb4125fa",
   "metadata": {
    "id": "fb4125fa"
   },
   "source": [
    "## EDA"
   ]
  },
  {
   "cell_type": "code",
   "execution_count": 6,
   "id": "ca6783fd",
   "metadata": {
    "id": "ca6783fd",
    "outputId": "9bc64728-fc73-4786-85e4-28d22a6955fc"
   },
   "outputs": [
    {
     "name": "stdout",
     "output_type": "stream",
     "text": [
      "<class 'pandas.core.frame.DataFrame'>\n",
      "RangeIndex: 166800 entries, 0 to 166799\n",
      "Data columns (total 17 columns):\n",
      " #   Column       Non-Null Count   Dtype  \n",
      "---  ------       --------------   -----  \n",
      " 0   VIN          166800 non-null  object \n",
      " 1   County       166795 non-null  object \n",
      " 2   City         166795 non-null  object \n",
      " 3   State        166800 non-null  object \n",
      " 4   ZIP          166795 non-null  float64\n",
      " 5   ModYr        166800 non-null  int64  \n",
      " 6   Make         166800 non-null  object \n",
      " 7   Model        166800 non-null  object \n",
      " 8   EVType       166800 non-null  object \n",
      " 9   CAFV         166800 non-null  object \n",
      " 10  EleRange     166800 non-null  int64  \n",
      " 11  MSRP         166800 non-null  int64  \n",
      " 12  LegDist      166440 non-null  float64\n",
      " 13  DOLID        166800 non-null  int64  \n",
      " 14  Location     166790 non-null  object \n",
      " 15  EleUtil      166795 non-null  object \n",
      " 16  CensusTract  166795 non-null  float64\n",
      "dtypes: float64(3), int64(4), object(10)\n",
      "memory usage: 21.6+ MB\n"
     ]
    }
   ],
   "source": [
    "df.info()"
   ]
  },
  {
   "cell_type": "code",
   "execution_count": 7,
   "id": "86786d52",
   "metadata": {
    "id": "86786d52",
    "outputId": "03fef598-a008-4d71-9ddd-6308926a6a11"
   },
   "outputs": [
    {
     "name": "stdout",
     "output_type": "stream",
     "text": [
      "Unique Values in VIN: 10316\n",
      "Unique Values in County: 187\n",
      "Unique Values in City: 704\n",
      "Unique Values in State: 44\n",
      "Unique Values in ZIP: 836\n",
      "Unique Values in ModYr: 22\n",
      "Unique Values in Make: 39\n",
      "Unique Values in Model: 138\n",
      "Unique Values in EVType: 2\n",
      "Unique Values in CAFV: 3\n",
      "Unique Values in EleRange: 102\n",
      "Unique Values in MSRP: 31\n",
      "Unique Values in LegDist: 49\n",
      "Unique Values in DOLID: 166800\n",
      "Unique Values in Location: 835\n",
      "Unique Values in EleUtil: 76\n",
      "Unique Values in CensusTract: 2088\n"
     ]
    }
   ],
   "source": [
    "# Count unique values for each columns\n",
    "cols = df.columns\n",
    "for i in np.arange(0, len(cols)):\n",
    "    print(f'Unique Values in {cols[i]}: {df[cols[i]].nunique()}')"
   ]
  },
  {
   "cell_type": "markdown",
   "id": "0db46d69",
   "metadata": {},
   "source": [
    "**Check the unique ID for this project**"
   ]
  },
  {
   "cell_type": "code",
   "execution_count": 8,
   "id": "fcfb95d0",
   "metadata": {
    "id": "fcfb95d0",
    "outputId": "00b7cabd-13a6-440c-ffdc-3346a5e0da72"
   },
   "outputs": [
    {
     "name": "stdout",
     "output_type": "stream",
     "text": [
      "<bound method DataFrame.duplicated of                VIN     County           City State      ZIP  ModYr  Make  \\\n",
      "0       3C3CFFGE4E     Yakima         Yakima    WA  98902.0   2014  FIAT   \n",
      "22444   3C3CFFGE4E       King      Shoreline    WA  98177.0   2014  FIAT   \n",
      "23467   3C3CFFGE4E       King        Seattle    WA  98144.0   2014  FIAT   \n",
      "45870   3C3CFFGE4E       King        Seattle    WA  98116.0   2014  FIAT   \n",
      "71054   3C3CFFGE4E       King        Seattle    WA  98105.0   2014  FIAT   \n",
      "74212   3C3CFFGE4E  Jefferson  Port Townsend    WA  98368.0   2014  FIAT   \n",
      "135211  3C3CFFGE4E       King         Vashon    WA  98070.0   2014  FIAT   \n",
      "147036  3C3CFFGE4E       King        Seattle    WA  98168.0   2014  FIAT   \n",
      "\n",
      "       Model                          EVType  \\\n",
      "0        500  Battery Electric Vehicle (BEV)   \n",
      "22444    500  Battery Electric Vehicle (BEV)   \n",
      "23467    500  Battery Electric Vehicle (BEV)   \n",
      "45870    500  Battery Electric Vehicle (BEV)   \n",
      "71054    500  Battery Electric Vehicle (BEV)   \n",
      "74212    500  Battery Electric Vehicle (BEV)   \n",
      "135211   500  Battery Electric Vehicle (BEV)   \n",
      "147036   500  Battery Electric Vehicle (BEV)   \n",
      "\n",
      "                                           CAFV  EleRange  MSRP  LegDist  \\\n",
      "0       Clean Alternative Fuel Vehicle Eligible        87     0     14.0   \n",
      "22444   Clean Alternative Fuel Vehicle Eligible        87     0     32.0   \n",
      "23467   Clean Alternative Fuel Vehicle Eligible        87     0     37.0   \n",
      "45870   Clean Alternative Fuel Vehicle Eligible        87     0     34.0   \n",
      "71054   Clean Alternative Fuel Vehicle Eligible        87     0     43.0   \n",
      "74212   Clean Alternative Fuel Vehicle Eligible        87     0     24.0   \n",
      "135211  Clean Alternative Fuel Vehicle Eligible        87     0     34.0   \n",
      "147036  Clean Alternative Fuel Vehicle Eligible        87     0     34.0   \n",
      "\n",
      "            DOLID                         Location  \\\n",
      "0         1593721   POINT (-120.524012 46.5973939)   \n",
      "22444   144394197     POINT (-122.382425 47.77279)   \n",
      "23467   229668092     POINT (-122.30823 47.581975)   \n",
      "45870   157080857      POINT (-122.38679 47.56484)   \n",
      "71054   312754718     POINT (-122.319115 47.66132)   \n",
      "74212   349647140  POINT (-122.7644197 48.1195874)   \n",
      "135211  182940733      POINT (-122.46049 47.44873)   \n",
      "147036  246955068       POINT (-122.286465 47.476)   \n",
      "\n",
      "                                                  EleUtil   CensusTract  \n",
      "0                                              PACIFICORP  5.307700e+10  \n",
      "22444        CITY OF SEATTLE - (WA)|CITY OF TACOMA - (WA)  5.303302e+10  \n",
      "23467        CITY OF SEATTLE - (WA)|CITY OF TACOMA - (WA)  5.303301e+10  \n",
      "45870        CITY OF SEATTLE - (WA)|CITY OF TACOMA - (WA)  5.303301e+10  \n",
      "71054        CITY OF SEATTLE - (WA)|CITY OF TACOMA - (WA)  5.303300e+10  \n",
      "74212   BONNEVILLE POWER ADMINISTRATION||PUGET SOUND E...  5.303195e+10  \n",
      "135211      PUGET SOUND ENERGY INC||CITY OF TACOMA - (WA)  5.303303e+10  \n",
      "147036       CITY OF SEATTLE - (WA)|CITY OF TACOMA - (WA)  5.303303e+10  >\n"
     ]
    }
   ],
   "source": [
    "# Check duplicate values for VIN '3C3CFFGE4E' (First record of this df)\n",
    "dup_vin = df[df['VIN']=='3C3CFFGE4E'].duplicated\n",
    "print(dup_vin)"
   ]
  },
  {
   "cell_type": "code",
   "execution_count": 9,
   "id": "8822425e",
   "metadata": {
    "id": "8822425e",
    "outputId": "2feebfa8-5b4b-40b1-9ae4-ce6c1a09cd51"
   },
   "outputs": [
    {
     "name": "stdout",
     "output_type": "stream",
     "text": [
      "Empty DataFrame\n",
      "Columns: [VIN, County, City, State, ZIP, ModYr, Make, Model, EVType, CAFV, EleRange, MSRP, LegDist, DOLID, Location, EleUtil, CensusTract]\n",
      "Index: []\n"
     ]
    }
   ],
   "source": [
    "# Confirm DOLID is a unique identifier for each vehicle\n",
    "dup_did = df[df['DOLID'].duplicated()]\n",
    "print(dup_did)"
   ]
  },
  {
   "cell_type": "markdown",
   "id": "40d61d75",
   "metadata": {
    "id": "40d61d75"
   },
   "source": [
    "## Missing Values"
   ]
  },
  {
   "cell_type": "code",
   "execution_count": 10,
   "id": "cf927d90",
   "metadata": {
    "id": "cf927d90",
    "outputId": "39f2aaf7-315f-4ec9-8589-092789baa0a2"
   },
   "outputs": [
    {
     "data": {
      "text/plain": [
       "VIN              0\n",
       "County           5\n",
       "City             5\n",
       "State            0\n",
       "ZIP              5\n",
       "ModYr            0\n",
       "Make             0\n",
       "Model            0\n",
       "EVType           0\n",
       "CAFV             0\n",
       "EleRange         0\n",
       "MSRP             0\n",
       "LegDist        360\n",
       "DOLID            0\n",
       "Location        10\n",
       "EleUtil          5\n",
       "CensusTract      5\n",
       "dtype: int64"
      ]
     },
     "execution_count": 10,
     "metadata": {},
     "output_type": "execute_result"
    }
   ],
   "source": [
    "# Check missing values from each column\n",
    "df.isnull().sum()"
   ]
  },
  {
   "cell_type": "code",
   "execution_count": 11,
   "id": "1e20f9b0",
   "metadata": {
    "id": "1e20f9b0",
    "outputId": "b79b9ddd-5f0d-436e-9e14-cfc8545fef88"
   },
   "outputs": [
    {
     "data": {
      "text/plain": [
       "VIN              0\n",
       "County           0\n",
       "City             0\n",
       "State            0\n",
       "ZIP              0\n",
       "ModYr            0\n",
       "Make             0\n",
       "Model            0\n",
       "EVType           0\n",
       "CAFV             0\n",
       "EleRange         0\n",
       "MSRP             0\n",
       "LegDist        355\n",
       "DOLID            0\n",
       "Location         5\n",
       "EleUtil          0\n",
       "CensusTract      0\n",
       "dtype: int64"
      ]
     },
     "execution_count": 11,
     "metadata": {},
     "output_type": "execute_result"
    }
   ],
   "source": [
    "# Drop rows where ZIP is null\n",
    "df.drop(df[df['ZIP'].isnull()].index, inplace=True)\n",
    "df.isnull().sum()"
   ]
  },
  {
   "cell_type": "markdown",
   "id": "4eER4Yxb3Fxi",
   "metadata": {
    "id": "4eER4Yxb3Fxi"
   },
   "source": [
    "Multicolinearity Check"
   ]
  },
  {
   "cell_type": "markdown",
   "id": "dde149f0",
   "metadata": {
    "id": "dde149f0"
   },
   "source": [
    "## Visualization"
   ]
  },
  {
   "cell_type": "code",
   "execution_count": 12,
   "id": "4fa81a7d",
   "metadata": {
    "id": "4fa81a7d",
    "outputId": "e6042ab1-3174-4021-ba2f-23b0e33c99a4"
   },
   "outputs": [
    {
     "data": {
      "text/plain": [
       "array(['Clean Alternative Fuel Vehicle Eligible',\n",
       "       'Not eligible due to low battery range',\n",
       "       'Eligibility unknown as battery range has not been researched'],\n",
       "      dtype=object)"
      ]
     },
     "execution_count": 12,
     "metadata": {},
     "output_type": "execute_result"
    }
   ],
   "source": [
    "df['CAFV'].unique()"
   ]
  },
  {
   "cell_type": "markdown",
   "id": "p_YyanWu3j4Q",
   "metadata": {
    "id": "p_YyanWu3j4Q"
   },
   "source": [
    "Plotly / Counterplot (SNS)"
   ]
  },
  {
   "cell_type": "code",
   "execution_count": 13,
   "id": "b8c143e6",
   "metadata": {
    "id": "b8c143e6",
    "outputId": "994b7e44-6ccf-43ba-945f-f2e48cd3b13c"
   },
   "outputs": [
    {
     "data": {
      "image/png": "[encoded data removed]",
      "text/plain": [
       "<Figure size 1000x600 with 1 Axes>"
      ]
     },
     "metadata": {},
     "output_type": "display_data"
    }
   ],
   "source": [
    "plt.figure(figsize=(10, 6))\n",
    "sns.countplot(x='EVType', hue='CAFV', data=df, palette='coolwarm')\n",
    "plt.title('CAFV Eligibility for each EV Type')\n",
    "plt.xlabel('EV Type')\n",
    "plt.ylabel('Count')\n",
    "plt.legend(title='CAFV Eligibility', loc='upper right')\n",
    "\n",
    "# Separation line between the EV Type\n",
    "for i in range(len(df['EVType'].unique()) - 1):\n",
    "    plt.axvline(x=i + 0.5, color='gray', linestyle='--', linewidth=0.5)\n",
    "\n",
    "plt.tight_layout()\n",
    "plt.show()"
   ]
  },
  {
   "cell_type": "code",
   "execution_count": 14,
   "id": "59765e17",
   "metadata": {
    "id": "59765e17",
    "outputId": "81479c2b-9183-496d-f0b3-a0e55ddb047e"
   },
   "outputs": [
    {
     "data": {
      "image/png": "[encoded data removed]",
      "text/plain": [
       "<Figure size 1200x600 with 1 Axes>"
      ]
     },
     "metadata": {},
     "output_type": "display_data"
    }
   ],
   "source": [
    "# Get the top 10 brands by count\n",
    "top_10_brands = df['Make'].value_counts().nlargest(10).index\n",
    "\n",
    "# Filter the DataFrame to include only the top 10 brands\n",
    "df_top_10 = df[df['Make'].isin(top_10_brands)]\n",
    "\n",
    "# Create the countplot\n",
    "plt.figure(figsize=(12, 6))\n",
    "sns.countplot(x='Make', hue='CAFV', data=df_top_10, palette='coolwarm')\n",
    "plt.title('CAFV Eligibility for Top 10 Brands')\n",
    "plt.xlabel('Make')\n",
    "plt.ylabel('Count')\n",
    "plt.legend(title='CAFV Eligibility', loc='upper right')\n",
    "\n",
    "# Separation line between the brands\n",
    "for i in range(len(top_10_brands) - 1):\n",
    "    plt.axvline(x=i + 0.5, color='gray', linestyle='--', linewidth=0.5)\n",
    "\n",
    "plt.xticks(rotation=45)  # Rotate x-axis labels for better readability\n",
    "plt.tight_layout()\n",
    "plt.show()"
   ]
  },
  {
   "cell_type": "code",
   "execution_count": 15,
   "id": "04d04e83",
   "metadata": {
    "id": "04d04e83",
    "outputId": "c1a35cae-49f0-4685-de9c-1348695f2677"
   },
   "outputs": [
    {
     "name": "stdout",
     "output_type": "stream",
     "text": [
      "Top 10 duplicate VIN counts:\n",
      "VIN\n",
      "7SAYGDEE6P    1114\n",
      "7SAYGDEE7P    1090\n",
      "7SAYGDEEXP    1071\n",
      "7SAYGDEE8P    1071\n",
      "7SAYGDEE0P    1052\n",
      "7SAYGDEE9P    1041\n",
      "7SAYGDEE5P    1037\n",
      "7SAYGDEE2P    1029\n",
      "7SAYGDEE1P    1022\n",
      "7SAYGDEE3P    1014\n",
      "Name: count, dtype: int64\n"
     ]
    }
   ],
   "source": [
    "# Count the number of duplicates in the 'VIN' column\n",
    "dup_vin_counts = df['VIN'].value_counts()\n",
    "\n",
    "# Print the top 10 duplicate VIN counts\n",
    "top_10_dup_vin_counts = dup_vin_counts.head(10)\n",
    "print(\"Top 10 duplicate VIN counts:\")\n",
    "print(top_10_dup_vin_counts)"
   ]
  },
  {
   "cell_type": "code",
   "execution_count": null,
   "id": "0a0ce067",
   "metadata": {
    "id": "0a0ce067"
   },
   "outputs": [],
   "source": []
  }
 ],
 "metadata": {
  "colab": {
   "provenance": []
  },
  "kernelspec": {
   "display_name": "Python 3 (ipykernel)",
   "language": "python",
   "name": "python3"
  },
  "language_info": {
   "codemirror_mode": {
    "name": "ipython",
    "version": 3
   },
   "file_extension": ".py",
   "mimetype": "text/x-python",
   "name": "python",
   "nbconvert_exporter": "python",
   "pygments_lexer": "ipython3",
   "version": "3.11.5"
  }
 },
 "nbformat": 4,
 "nbformat_minor": 5
}

{
 "cells": [
  {
   "cell_type": "markdown",
   "id": "79fb4f28",
   "metadata": {
    "id": "79fb4f28"
   },
   "source": [
    "# EV Population Classification"
   ]
  },
  {
   "cell_type": "markdown",
   "id": "bd6768cd",
   "metadata": {
    "id": "bd6768cd"
   },
   "source": [
    "Dataset from https://data.wa.gov/Transportation/Electric-Vehicle-Population-Data/f6w7-q2d2/about_data</br>\n",
    "Kaggle link: https://www.kaggle.com/datasets/usamabuttar/electric-vehicle-population-data-washington-us</br>\n",
    "Encoding Methods: https://medium.com/@jkkn.iitkgp/categorical-data-encoding-techniques-d6296697a40f"
   ]
  },
  {
   "cell_type": "markdown",
   "id": "e6e34f83",
   "metadata": {
    "id": "e6e34f83"
   },
   "source": [
    "## Notes (About the Dataset)"
   ]
  },
  {
   "cell_type": "markdown",
   "id": "07b6f66b",
   "metadata": {
    "id": "07b6f66b"
   },
   "source": [
    "This dataset shows the Battery Electric Vehicles (BEVs) and Plug-in Hybrid Electric Vehicles (PHEVs) that are currently registered through Washington State Department of Licensing (DOL).\n",
    "\n",
    "1. A Battery Electric Vehicle (BEV) is an all-electric vehicle using one or more batteries to store the electrical energy that powers the motor and is charged by plugging the vehicle in to an electric power source. A Plug-in Hybrid Electric Vehicle (PHEV) is a vehicle that uses one or more batteries to power an electric motor; uses another fuel, such as gasoline or diesel, to power an internal combustion engine or other propulsion source; and is charged by plugging the vehicle in to an electric power source.\n",
    "2. Clean Alternative Fuel Vehicle (CAFV) Eligibility is based on the fuel requirement and electric-only range requirement as outlined in RCW 82.08.809 and RCW 82.12.809 to be eligible for Alternative Fuel Vehicles retail sales and Washington State use tax exemptions. Sales or leases of these vehicles must occur on or after 8/1/2019 and meet the purchase price requirements to be eligible for Alternative Fuel Vehicles retail sales and Washington State use tax exemptions.\n",
    "3. Monthly count of vehicles for a county may change from this report and prior reports. Processes were implemented to more accurately assign county at the time of registration.\n",
    "4. Electric Range is no longer maintained for Battery Electric Vehicles (BEV) because new BEVs have an electric range of 30 miles or more. Zero (0) will be entered where the electric range has not been researched."
   ]
  },
  {
   "cell_type": "markdown",
   "id": "331e6695",
   "metadata": {
    "id": "331e6695"
   },
   "source": [
    "## Importing Libraries"
   ]
  },
  {
   "cell_type": "code",
   "execution_count": 1,
   "id": "a5dcc5c1",
   "metadata": {
    "id": "a5dcc5c1"
   },
   "outputs": [],
   "source": [
    "# Importing Libraries\n",
    "import pandas as pd\n",
    "import numpy as np\n",
    "import matplotlib.pyplot as plt\n",
    "import seaborn as sns\n",
    "\n",
    "# Ignore warnings\n",
    "import warnings\n",
    "warnings.filterwarnings(\"ignore\")\n",
    "\n",
    "from sklearn.preprocessing import OneHotEncoder, LabelEncoder"
   ]
  },
  {
   "cell_type": "markdown",
   "id": "d52e3bfa",
   "metadata": {
    "id": "d52e3bfa"
   },
   "source": [
    "## Loading Dataset"
   ]
  },
  {
   "cell_type": "code",
   "execution_count": 2,
   "id": "adae3cc4",
   "metadata": {
    "id": "adae3cc4"
   },
   "outputs": [],
   "source": [
    "# Read CSV file\n",
    "df = pd.read_csv('./Dataset/ev_population_data.csv')"
   ]
  },
  {
   "cell_type": "code",
   "execution_count": 3,
   "id": "78b3acb2",
   "metadata": {
    "id": "78b3acb2",
    "outputId": "6b00af5a-33f0-429e-a39b-c061012f0558",
    "scrolled": true
   },
   "outputs": [
    {
     "data": {
      "text/html": [
       "<div>\n",
       "<style scoped>\n",
       "    .dataframe tbody tr th:only-of-type {\n",
       "        vertical-align: middle;\n",
       "    }\n",
       "\n",
       "    .dataframe tbody tr th {\n",
       "        vertical-align: top;\n",
       "    }\n",
       "\n",
       "    .dataframe thead th {\n",
       "        text-align: right;\n",
       "    }\n",
       "</style>\n",
       "<table border=\"1\" class=\"dataframe\">\n",
       "  <thead>\n",
       "    <tr style=\"text-align: right;\">\n",
       "      <th></th>\n",
       "      <th>VIN (1-10)</th>\n",
       "      <th>County</th>\n",
       "      <th>City</th>\n",
       "      <th>State</th>\n",
       "      <th>Postal Code</th>\n",
       "      <th>Model Year</th>\n",
       "      <th>Make</th>\n",
       "      <th>Model</th>\n",
       "      <th>Electric Vehicle Type</th>\n",
       "      <th>Clean Alternative Fuel Vehicle (CAFV) Eligibility</th>\n",
       "      <th>Electric Range</th>\n",
       "      <th>Base MSRP</th>\n",
       "      <th>Legislative District</th>\n",
       "      <th>DOL Vehicle ID</th>\n",
       "      <th>Vehicle Location</th>\n",
       "      <th>Electric Utility</th>\n",
       "      <th>2020 Census Tract</th>\n",
       "    </tr>\n",
       "  </thead>\n",
       "  <tbody>\n",
       "    <tr>\n",
       "      <th>0</th>\n",
       "      <td>3C3CFFGE4E</td>\n",
       "      <td>Yakima</td>\n",
       "      <td>Yakima</td>\n",
       "      <td>WA</td>\n",
       "      <td>98902.0</td>\n",
       "      <td>2014</td>\n",
       "      <td>FIAT</td>\n",
       "      <td>500</td>\n",
       "      <td>Battery Electric Vehicle (BEV)</td>\n",
       "      <td>Clean Alternative Fuel Vehicle Eligible</td>\n",
       "      <td>87</td>\n",
       "      <td>0</td>\n",
       "      <td>14.0</td>\n",
       "      <td>1593721</td>\n",
       "      <td>POINT (-120.524012 46.5973939)</td>\n",
       "      <td>PACIFICORP</td>\n",
       "      <td>5.307700e+10</td>\n",
       "    </tr>\n",
       "    <tr>\n",
       "      <th>1</th>\n",
       "      <td>5YJXCBE40H</td>\n",
       "      <td>Thurston</td>\n",
       "      <td>Olympia</td>\n",
       "      <td>WA</td>\n",
       "      <td>98513.0</td>\n",
       "      <td>2017</td>\n",
       "      <td>TESLA</td>\n",
       "      <td>MODEL X</td>\n",
       "      <td>Battery Electric Vehicle (BEV)</td>\n",
       "      <td>Clean Alternative Fuel Vehicle Eligible</td>\n",
       "      <td>200</td>\n",
       "      <td>0</td>\n",
       "      <td>2.0</td>\n",
       "      <td>257167501</td>\n",
       "      <td>POINT (-122.817545 46.98876)</td>\n",
       "      <td>PUGET SOUND ENERGY INC</td>\n",
       "      <td>5.306701e+10</td>\n",
       "    </tr>\n",
       "    <tr>\n",
       "      <th>2</th>\n",
       "      <td>3MW39FS03P</td>\n",
       "      <td>King</td>\n",
       "      <td>Renton</td>\n",
       "      <td>WA</td>\n",
       "      <td>98058.0</td>\n",
       "      <td>2023</td>\n",
       "      <td>BMW</td>\n",
       "      <td>330E</td>\n",
       "      <td>Plug-in Hybrid Electric Vehicle (PHEV)</td>\n",
       "      <td>Not eligible due to low battery range</td>\n",
       "      <td>20</td>\n",
       "      <td>0</td>\n",
       "      <td>11.0</td>\n",
       "      <td>224071816</td>\n",
       "      <td>POINT (-122.1298876 47.4451257)</td>\n",
       "      <td>PUGET SOUND ENERGY INC||CITY OF TACOMA - (WA)</td>\n",
       "      <td>5.303303e+10</td>\n",
       "    </tr>\n",
       "    <tr>\n",
       "      <th>3</th>\n",
       "      <td>7PDSGABA8P</td>\n",
       "      <td>Snohomish</td>\n",
       "      <td>Bothell</td>\n",
       "      <td>WA</td>\n",
       "      <td>98012.0</td>\n",
       "      <td>2023</td>\n",
       "      <td>RIVIAN</td>\n",
       "      <td>R1S</td>\n",
       "      <td>Battery Electric Vehicle (BEV)</td>\n",
       "      <td>Eligibility unknown as battery range has not b...</td>\n",
       "      <td>0</td>\n",
       "      <td>0</td>\n",
       "      <td>21.0</td>\n",
       "      <td>260084653</td>\n",
       "      <td>POINT (-122.1873 47.820245)</td>\n",
       "      <td>PUGET SOUND ENERGY INC</td>\n",
       "      <td>5.306105e+10</td>\n",
       "    </tr>\n",
       "    <tr>\n",
       "      <th>4</th>\n",
       "      <td>5YJ3E1EB8L</td>\n",
       "      <td>King</td>\n",
       "      <td>Kent</td>\n",
       "      <td>WA</td>\n",
       "      <td>98031.0</td>\n",
       "      <td>2020</td>\n",
       "      <td>TESLA</td>\n",
       "      <td>MODEL 3</td>\n",
       "      <td>Battery Electric Vehicle (BEV)</td>\n",
       "      <td>Clean Alternative Fuel Vehicle Eligible</td>\n",
       "      <td>322</td>\n",
       "      <td>0</td>\n",
       "      <td>33.0</td>\n",
       "      <td>253771913</td>\n",
       "      <td>POINT (-122.2012521 47.3931814)</td>\n",
       "      <td>PUGET SOUND ENERGY INC||CITY OF TACOMA - (WA)</td>\n",
       "      <td>5.303303e+10</td>\n",
       "    </tr>\n",
       "  </tbody>\n",
       "</table>\n",
       "</div>"
      ],
      "text/plain": [
       "   VIN (1-10)     County     City State  Postal Code  Model Year    Make  \\\n",
       "0  3C3CFFGE4E     Yakima   Yakima    WA      98902.0        2014    FIAT   \n",
       "1  5YJXCBE40H   Thurston  Olympia    WA      98513.0        2017   TESLA   \n",
       "2  3MW39FS03P       King   Renton    WA      98058.0        2023     BMW   \n",
       "3  7PDSGABA8P  Snohomish  Bothell    WA      98012.0        2023  RIVIAN   \n",
       "4  5YJ3E1EB8L       King     Kent    WA      98031.0        2020   TESLA   \n",
       "\n",
       "     Model                   Electric Vehicle Type  \\\n",
       "0      500          Battery Electric Vehicle (BEV)   \n",
       "1  MODEL X          Battery Electric Vehicle (BEV)   \n",
       "2     330E  Plug-in Hybrid Electric Vehicle (PHEV)   \n",
       "3      R1S          Battery Electric Vehicle (BEV)   \n",
       "4  MODEL 3          Battery Electric Vehicle (BEV)   \n",
       "\n",
       "   Clean Alternative Fuel Vehicle (CAFV) Eligibility  Electric Range  \\\n",
       "0            Clean Alternative Fuel Vehicle Eligible              87   \n",
       "1            Clean Alternative Fuel Vehicle Eligible             200   \n",
       "2              Not eligible due to low battery range              20   \n",
       "3  Eligibility unknown as battery range has not b...               0   \n",
       "4            Clean Alternative Fuel Vehicle Eligible             322   \n",
       "\n",
       "   Base MSRP  Legislative District  DOL Vehicle ID  \\\n",
       "0          0                  14.0         1593721   \n",
       "1          0                   2.0       257167501   \n",
       "2          0                  11.0       224071816   \n",
       "3          0                  21.0       260084653   \n",
       "4          0                  33.0       253771913   \n",
       "\n",
       "                  Vehicle Location  \\\n",
       "0   POINT (-120.524012 46.5973939)   \n",
       "1     POINT (-122.817545 46.98876)   \n",
       "2  POINT (-122.1298876 47.4451257)   \n",
       "3      POINT (-122.1873 47.820245)   \n",
       "4  POINT (-122.2012521 47.3931814)   \n",
       "\n",
       "                                Electric Utility  2020 Census Tract  \n",
       "0                                     PACIFICORP       5.307700e+10  \n",
       "1                         PUGET SOUND ENERGY INC       5.306701e+10  \n",
       "2  PUGET SOUND ENERGY INC||CITY OF TACOMA - (WA)       5.303303e+10  \n",
       "3                         PUGET SOUND ENERGY INC       5.306105e+10  \n",
       "4  PUGET SOUND ENERGY INC||CITY OF TACOMA - (WA)       5.303303e+10  "
      ]
     },
     "execution_count": 3,
     "metadata": {},
     "output_type": "execute_result"
    }
   ],
   "source": [
    "df.head()"
   ]
  },
  {
   "cell_type": "markdown",
   "id": "b71f58e0",
   "metadata": {
    "id": "b71f58e0"
   },
   "source": [
    "**Columns in the dataset**\n",
    "* Vin#: The 1st 10 characters of each vehicle's Vehicle Identification Number (VIN).\n",
    "* County: This is the geographic region of a state that a vehicle's owner is listed to reside within. Vehicles registered in Washington state may be located in other states.\n",
    "* City: The city in which the registered owner resides.\n",
    "* State: This is the geographic region of the country associated with the record. These addresses may be located in other states.\n",
    "* Zip: The 5 digit zip code in which the registered owner resides.\n",
    "* Model Yr: The model year of the vehicle, determined by decoding the Vehicle Identification Number (VIN).\n",
    "* EV Type: This distinguishes the vehicle as all electric or a plug-in hybrid.\n",
    "* CAFV Eligibility: This categorizes vehicle as Clean Alternative Fuel Vehicles (CAFVs) based on the fuel requirement and electric-only range requirement in House Bill 2042 as passed in the 2019 legislative session.\n",
    "* Electric Range: Describes how far a vehicle can travel purely on its electric charge.\n",
    "* MSRP: This is the lowest Manufacturer's Suggested Retail Price (MSRP) for any trim level of the model in question.\n",
    "* Leg Dist: The specific section of Washington State that the vehicle's owner resides in, as represented in the state legislature.\n",
    "* DOL ID: Unique number assigned to each vehicle by Department of Licensing for identification purposes.\n",
    "* Vehicle Location: The center of the ZIP Code for the registered vehicle.\n",
    "* Electric Utility: This is the electric power retail service territories serving the address of the registered vehicle. All ownership types for areas in Washington are included: federal, investor owned, municipal, political subdivision, and cooperative. If the address for the registered vehicle falls into an area with overlapping electric power retail service territories then a single pipe | delimits utilities of same TYPE and a double pipe || delimits utilities of different types. We combined vehicle address and Homeland Infrastructure Foundation Level Database (HIFLD) (https://gii.dhs.gov/HIFLD) Retail_Service_Territories feature layer using a geographic information system to assign values for this field. Blanks occur for vehicles with addresses outside of Washington or for addresses falling into areas in Washington not containing a mapped electric power retail service territory in the source data.\n",
    "* 2020 Census Tract: The census tract identifier is a combination of the state, county, and census tract codes as assigned by the United States Census Bureau in the 2020 census, also known as Geographic Identifier (GEOID). More information can be found here: https://www.census.gov/programs-surveys/geography/about/glossary.html#par_textimage_13 https://www.census.gov/programs-surveys/geography/guidance/geo-identifiers.html"
   ]
  },
  {
   "cell_type": "code",
   "execution_count": 4,
   "id": "2a9e9b07",
   "metadata": {
    "id": "2a9e9b07",
    "outputId": "b603e91c-3781-45be-a2b8-42778c478798"
   },
   "outputs": [
    {
     "name": "stdout",
     "output_type": "stream",
     "text": [
      "<class 'pandas.core.frame.DataFrame'>\n",
      "RangeIndex: 166800 entries, 0 to 166799\n",
      "Data columns (total 17 columns):\n",
      " #   Column                                             Non-Null Count   Dtype  \n",
      "---  ------                                             --------------   -----  \n",
      " 0   VIN (1-10)                                         166800 non-null  object \n",
      " 1   County                                             166795 non-null  object \n",
      " 2   City                                               166795 non-null  object \n",
      " 3   State                                              166800 non-null  object \n",
      " 4   Postal Code                                        166795 non-null  float64\n",
      " 5   Model Year                                         166800 non-null  int64  \n",
      " 6   Make                                               166800 non-null  object \n",
      " 7   Model                                              166800 non-null  object \n",
      " 8   Electric Vehicle Type                              166800 non-null  object \n",
      " 9   Clean Alternative Fuel Vehicle (CAFV) Eligibility  166800 non-null  object \n",
      " 10  Electric Range                                     166800 non-null  int64  \n",
      " 11  Base MSRP                                          166800 non-null  int64  \n",
      " 12  Legislative District                               166440 non-null  float64\n",
      " 13  DOL Vehicle ID                                     166800 non-null  int64  \n",
      " 14  Vehicle Location                                   166790 non-null  object \n",
      " 15  Electric Utility                                   166795 non-null  object \n",
      " 16  2020 Census Tract                                  166795 non-null  float64\n",
      "dtypes: float64(3), int64(4), object(10)\n",
      "memory usage: 21.6+ MB\n"
     ]
    }
   ],
   "source": [
    "df.info()"
   ]
  },
  {
   "cell_type": "code",
   "execution_count": 5,
   "id": "1d255330",
   "metadata": {
    "id": "1d255330"
   },
   "outputs": [],
   "source": [
    "df = df.rename(columns={'VIN (1-10)': 'VIN',\n",
    "                        'Postal Code': 'ZIP',\n",
    "                        'Model Year': 'ModYr',\n",
    "                        'Electric Vehicle Type': 'EVType',\n",
    "                        'Clean Alternative Fuel Vehicle (CAFV) Eligibility': 'CAFV',\n",
    "                        'Electric Range': 'EleRange',\n",
    "                        'Base MSRP': 'MSRP',\n",
    "                        'Legislative District': 'LegDist',\n",
    "                        'DOL Vehicle ID': 'DOLID',\n",
    "                        'Vehicle Location': 'Location',\n",
    "                        'Electric Utility': 'EleUtil',\n",
    "                        '2020 Census Tract': 'CensusTract'})"
   ]
  },
  {
   "cell_type": "markdown",
   "id": "fb4125fa",
   "metadata": {
    "id": "fb4125fa"
   },
   "source": [
    "## EDA"
   ]
  },
  {
   "cell_type": "code",
   "execution_count": 6,
   "id": "ca6783fd",
   "metadata": {
    "id": "ca6783fd",
    "outputId": "9bc64728-fc73-4786-85e4-28d22a6955fc"
   },
   "outputs": [
    {
     "name": "stdout",
     "output_type": "stream",
     "text": [
      "<class 'pandas.core.frame.DataFrame'>\n",
      "RangeIndex: 166800 entries, 0 to 166799\n",
      "Data columns (total 17 columns):\n",
      " #   Column       Non-Null Count   Dtype  \n",
      "---  ------       --------------   -----  \n",
      " 0   VIN          166800 non-null  object \n",
      " 1   County       166795 non-null  object \n",
      " 2   City         166795 non-null  object \n",
      " 3   State        166800 non-null  object \n",
      " 4   ZIP          166795 non-null  float64\n",
      " 5   ModYr        166800 non-null  int64  \n",
      " 6   Make         166800 non-null  object \n",
      " 7   Model        166800 non-null  object \n",
      " 8   EVType       166800 non-null  object \n",
      " 9   CAFV         166800 non-null  object \n",
      " 10  EleRange     166800 non-null  int64  \n",
      " 11  MSRP         166800 non-null  int64  \n",
      " 12  LegDist      166440 non-null  float64\n",
      " 13  DOLID        166800 non-null  int64  \n",
      " 14  Location     166790 non-null  object \n",
      " 15  EleUtil      166795 non-null  object \n",
      " 16  CensusTract  166795 non-null  float64\n",
      "dtypes: float64(3), int64(4), object(10)\n",
      "memory usage: 21.6+ MB\n"
     ]
    }
   ],
   "source": [
    "df.info()"
   ]
  },
  {
   "cell_type": "code",
   "execution_count": 7,
   "id": "86786d52",
   "metadata": {
    "id": "86786d52",
    "outputId": "03fef598-a008-4d71-9ddd-6308926a6a11"
   },
   "outputs": [
    {
     "name": "stdout",
     "output_type": "stream",
     "text": [
      "Unique Values in VIN: 10316\n",
      "Unique Values in County: 187\n",
      "Unique Values in City: 704\n",
      "Unique Values in State: 44\n",
      "Unique Values in ZIP: 836\n",
      "Unique Values in ModYr: 22\n",
      "Unique Values in Make: 39\n",
      "Unique Values in Model: 138\n",
      "Unique Values in EVType: 2\n",
      "Unique Values in CAFV: 3\n",
      "Unique Values in EleRange: 102\n",
      "Unique Values in MSRP: 31\n",
      "Unique Values in LegDist: 49\n",
      "Unique Values in DOLID: 166800\n",
      "Unique Values in Location: 835\n",
      "Unique Values in EleUtil: 76\n",
      "Unique Values in CensusTract: 2088\n"
     ]
    }
   ],
   "source": [
    "# Count unique values for each columns\n",
    "cols = df.columns\n",
    "for i in np.arange(0, len(cols)):\n",
    "    print(f'Unique Values in {cols[i]}: {df[cols[i]].nunique()}')"
   ]
  },
  {
   "cell_type": "markdown",
   "id": "0db46d69",
   "metadata": {},
   "source": [
    "**Check the unique ID for this project**"
   ]
  },
  {
   "cell_type": "code",
   "execution_count": 8,
   "id": "8822425e",
   "metadata": {
    "id": "8822425e",
    "outputId": "2feebfa8-5b4b-40b1-9ae4-ce6c1a09cd51"
   },
   "outputs": [
    {
     "name": "stdout",
     "output_type": "stream",
     "text": [
      "Empty DataFrame\n",
      "Columns: [VIN, County, City, State, ZIP, ModYr, Make, Model, EVType, CAFV, EleRange, MSRP, LegDist, DOLID, Location, EleUtil, CensusTract]\n",
      "Index: []\n"
     ]
    }
   ],
   "source": [
    "# Confirm DOLID is a unique identifier for each vehicle\n",
    "dup_did = df[df['DOLID'].duplicated()]\n",
    "print(dup_did)"
   ]
  },
  {
   "cell_type": "markdown",
   "id": "34c0afc5",
   "metadata": {},
   "source": [
    "**Note:</br>**\n",
    "DOLID is the unique ID for this dataset.</br>\n",
    "Records with same VINs won't be dropped because rest of the features are different."
   ]
  },
  {
   "cell_type": "markdown",
   "id": "40d61d75",
   "metadata": {
    "id": "40d61d75"
   },
   "source": [
    "**Missing Values**"
   ]
  },
  {
   "cell_type": "code",
   "execution_count": 9,
   "id": "cf927d90",
   "metadata": {
    "id": "cf927d90",
    "outputId": "39f2aaf7-315f-4ec9-8589-092789baa0a2"
   },
   "outputs": [
    {
     "data": {
      "text/plain": [
       "VIN              0\n",
       "County           5\n",
       "City             5\n",
       "State            0\n",
       "ZIP              5\n",
       "ModYr            0\n",
       "Make             0\n",
       "Model            0\n",
       "EVType           0\n",
       "CAFV             0\n",
       "EleRange         0\n",
       "MSRP             0\n",
       "LegDist        360\n",
       "DOLID            0\n",
       "Location        10\n",
       "EleUtil          5\n",
       "CensusTract      5\n",
       "dtype: int64"
      ]
     },
     "execution_count": 9,
     "metadata": {},
     "output_type": "execute_result"
    }
   ],
   "source": [
    "# Check missing values from each column\n",
    "df.isnull().sum()"
   ]
  },
  {
   "cell_type": "code",
   "execution_count": 10,
   "id": "40dccd10",
   "metadata": {},
   "outputs": [
    {
     "data": {
      "text/html": [
       "<div>\n",
       "<style scoped>\n",
       "    .dataframe tbody tr th:only-of-type {\n",
       "        vertical-align: middle;\n",
       "    }\n",
       "\n",
       "    .dataframe tbody tr th {\n",
       "        vertical-align: top;\n",
       "    }\n",
       "\n",
       "    .dataframe thead th {\n",
       "        text-align: right;\n",
       "    }\n",
       "</style>\n",
       "<table border=\"1\" class=\"dataframe\">\n",
       "  <thead>\n",
       "    <tr style=\"text-align: right;\">\n",
       "      <th></th>\n",
       "      <th>VIN</th>\n",
       "      <th>County</th>\n",
       "      <th>City</th>\n",
       "      <th>State</th>\n",
       "      <th>ZIP</th>\n",
       "      <th>ModYr</th>\n",
       "      <th>Make</th>\n",
       "      <th>Model</th>\n",
       "      <th>EVType</th>\n",
       "      <th>CAFV</th>\n",
       "      <th>EleRange</th>\n",
       "      <th>MSRP</th>\n",
       "      <th>LegDist</th>\n",
       "      <th>DOLID</th>\n",
       "      <th>Location</th>\n",
       "      <th>EleUtil</th>\n",
       "      <th>CensusTract</th>\n",
       "    </tr>\n",
       "  </thead>\n",
       "  <tbody>\n",
       "    <tr>\n",
       "      <th>98</th>\n",
       "      <td>5YJXCAE24H</td>\n",
       "      <td>NaN</td>\n",
       "      <td>NaN</td>\n",
       "      <td>BC</td>\n",
       "      <td>NaN</td>\n",
       "      <td>2017</td>\n",
       "      <td>TESLA</td>\n",
       "      <td>MODEL X</td>\n",
       "      <td>Battery Electric Vehicle (BEV)</td>\n",
       "      <td>Clean Alternative Fuel Vehicle Eligible</td>\n",
       "      <td>200</td>\n",
       "      <td>0</td>\n",
       "      <td>NaN</td>\n",
       "      <td>159850029</td>\n",
       "      <td>NaN</td>\n",
       "      <td>NaN</td>\n",
       "      <td>NaN</td>\n",
       "    </tr>\n",
       "    <tr>\n",
       "      <th>100</th>\n",
       "      <td>5YJSA1E21J</td>\n",
       "      <td>NaN</td>\n",
       "      <td>NaN</td>\n",
       "      <td>AE</td>\n",
       "      <td>NaN</td>\n",
       "      <td>2018</td>\n",
       "      <td>TESLA</td>\n",
       "      <td>MODEL S</td>\n",
       "      <td>Battery Electric Vehicle (BEV)</td>\n",
       "      <td>Clean Alternative Fuel Vehicle Eligible</td>\n",
       "      <td>249</td>\n",
       "      <td>0</td>\n",
       "      <td>NaN</td>\n",
       "      <td>220643132</td>\n",
       "      <td>NaN</td>\n",
       "      <td>NaN</td>\n",
       "      <td>NaN</td>\n",
       "    </tr>\n",
       "    <tr>\n",
       "      <th>97863</th>\n",
       "      <td>JTDKARFP1H</td>\n",
       "      <td>Pacific</td>\n",
       "      <td>Long Beach</td>\n",
       "      <td>WA</td>\n",
       "      <td>98634.0</td>\n",
       "      <td>2017</td>\n",
       "      <td>TOYOTA</td>\n",
       "      <td>PRIUS PRIME</td>\n",
       "      <td>Plug-in Hybrid Electric Vehicle (PHEV)</td>\n",
       "      <td>Not eligible due to low battery range</td>\n",
       "      <td>25</td>\n",
       "      <td>0</td>\n",
       "      <td>19.0</td>\n",
       "      <td>171247282</td>\n",
       "      <td>NaN</td>\n",
       "      <td>BONNEVILLE POWER ADMINISTRATION||PUD NO 2 OF P...</td>\n",
       "      <td>5.304995e+10</td>\n",
       "    </tr>\n",
       "    <tr>\n",
       "      <th>132425</th>\n",
       "      <td>5YJ3E1EA5K</td>\n",
       "      <td>NaN</td>\n",
       "      <td>NaN</td>\n",
       "      <td>BC</td>\n",
       "      <td>NaN</td>\n",
       "      <td>2019</td>\n",
       "      <td>TESLA</td>\n",
       "      <td>MODEL 3</td>\n",
       "      <td>Battery Electric Vehicle (BEV)</td>\n",
       "      <td>Clean Alternative Fuel Vehicle Eligible</td>\n",
       "      <td>220</td>\n",
       "      <td>0</td>\n",
       "      <td>NaN</td>\n",
       "      <td>475254825</td>\n",
       "      <td>NaN</td>\n",
       "      <td>NaN</td>\n",
       "      <td>NaN</td>\n",
       "    </tr>\n",
       "    <tr>\n",
       "      <th>134650</th>\n",
       "      <td>1G1FW6S08N</td>\n",
       "      <td>Pacific</td>\n",
       "      <td>Long Beach</td>\n",
       "      <td>WA</td>\n",
       "      <td>98634.0</td>\n",
       "      <td>2022</td>\n",
       "      <td>CHEVROLET</td>\n",
       "      <td>BOLT EV</td>\n",
       "      <td>Battery Electric Vehicle (BEV)</td>\n",
       "      <td>Eligibility unknown as battery range has not b...</td>\n",
       "      <td>0</td>\n",
       "      <td>0</td>\n",
       "      <td>19.0</td>\n",
       "      <td>218102209</td>\n",
       "      <td>NaN</td>\n",
       "      <td>BONNEVILLE POWER ADMINISTRATION||PUD NO 2 OF P...</td>\n",
       "      <td>5.304995e+10</td>\n",
       "    </tr>\n",
       "    <tr>\n",
       "      <th>136489</th>\n",
       "      <td>KNDJX3AE8H</td>\n",
       "      <td>Pacific</td>\n",
       "      <td>Long Beach</td>\n",
       "      <td>WA</td>\n",
       "      <td>98634.0</td>\n",
       "      <td>2017</td>\n",
       "      <td>KIA</td>\n",
       "      <td>SOUL EV</td>\n",
       "      <td>Battery Electric Vehicle (BEV)</td>\n",
       "      <td>Clean Alternative Fuel Vehicle Eligible</td>\n",
       "      <td>93</td>\n",
       "      <td>32250</td>\n",
       "      <td>19.0</td>\n",
       "      <td>106442773</td>\n",
       "      <td>NaN</td>\n",
       "      <td>BONNEVILLE POWER ADMINISTRATION||PUD NO 2 OF P...</td>\n",
       "      <td>5.304995e+10</td>\n",
       "    </tr>\n",
       "    <tr>\n",
       "      <th>137458</th>\n",
       "      <td>KMHE54L2XH</td>\n",
       "      <td>Pacific</td>\n",
       "      <td>Long Beach</td>\n",
       "      <td>WA</td>\n",
       "      <td>98634.0</td>\n",
       "      <td>2017</td>\n",
       "      <td>HYUNDAI</td>\n",
       "      <td>SONATA</td>\n",
       "      <td>Plug-in Hybrid Electric Vehicle (PHEV)</td>\n",
       "      <td>Not eligible due to low battery range</td>\n",
       "      <td>27</td>\n",
       "      <td>0</td>\n",
       "      <td>19.0</td>\n",
       "      <td>245533578</td>\n",
       "      <td>NaN</td>\n",
       "      <td>BONNEVILLE POWER ADMINISTRATION||PUD NO 2 OF P...</td>\n",
       "      <td>5.304995e+10</td>\n",
       "    </tr>\n",
       "    <tr>\n",
       "      <th>139217</th>\n",
       "      <td>1C4JJXP69P</td>\n",
       "      <td>Pacific</td>\n",
       "      <td>Long Beach</td>\n",
       "      <td>WA</td>\n",
       "      <td>98634.0</td>\n",
       "      <td>2023</td>\n",
       "      <td>JEEP</td>\n",
       "      <td>WRANGLER</td>\n",
       "      <td>Plug-in Hybrid Electric Vehicle (PHEV)</td>\n",
       "      <td>Not eligible due to low battery range</td>\n",
       "      <td>21</td>\n",
       "      <td>0</td>\n",
       "      <td>19.0</td>\n",
       "      <td>254934886</td>\n",
       "      <td>NaN</td>\n",
       "      <td>BONNEVILLE POWER ADMINISTRATION||PUD NO 2 OF P...</td>\n",
       "      <td>5.304995e+10</td>\n",
       "    </tr>\n",
       "    <tr>\n",
       "      <th>140273</th>\n",
       "      <td>5YJRE11B48</td>\n",
       "      <td>NaN</td>\n",
       "      <td>NaN</td>\n",
       "      <td>BC</td>\n",
       "      <td>NaN</td>\n",
       "      <td>2008</td>\n",
       "      <td>TESLA</td>\n",
       "      <td>ROADSTER</td>\n",
       "      <td>Battery Electric Vehicle (BEV)</td>\n",
       "      <td>Clean Alternative Fuel Vehicle Eligible</td>\n",
       "      <td>220</td>\n",
       "      <td>98950</td>\n",
       "      <td>NaN</td>\n",
       "      <td>143609049</td>\n",
       "      <td>NaN</td>\n",
       "      <td>NaN</td>\n",
       "      <td>NaN</td>\n",
       "    </tr>\n",
       "    <tr>\n",
       "      <th>154970</th>\n",
       "      <td>1N4AZ0CP1D</td>\n",
       "      <td>NaN</td>\n",
       "      <td>NaN</td>\n",
       "      <td>AP</td>\n",
       "      <td>NaN</td>\n",
       "      <td>2013</td>\n",
       "      <td>NISSAN</td>\n",
       "      <td>LEAF</td>\n",
       "      <td>Battery Electric Vehicle (BEV)</td>\n",
       "      <td>Clean Alternative Fuel Vehicle Eligible</td>\n",
       "      <td>75</td>\n",
       "      <td>0</td>\n",
       "      <td>NaN</td>\n",
       "      <td>112277063</td>\n",
       "      <td>NaN</td>\n",
       "      <td>NaN</td>\n",
       "      <td>NaN</td>\n",
       "    </tr>\n",
       "  </tbody>\n",
       "</table>\n",
       "</div>"
      ],
      "text/plain": [
       "               VIN   County        City State      ZIP  ModYr       Make  \\\n",
       "98      5YJXCAE24H      NaN         NaN    BC      NaN   2017      TESLA   \n",
       "100     5YJSA1E21J      NaN         NaN    AE      NaN   2018      TESLA   \n",
       "97863   JTDKARFP1H  Pacific  Long Beach    WA  98634.0   2017     TOYOTA   \n",
       "132425  5YJ3E1EA5K      NaN         NaN    BC      NaN   2019      TESLA   \n",
       "134650  1G1FW6S08N  Pacific  Long Beach    WA  98634.0   2022  CHEVROLET   \n",
       "136489  KNDJX3AE8H  Pacific  Long Beach    WA  98634.0   2017        KIA   \n",
       "137458  KMHE54L2XH  Pacific  Long Beach    WA  98634.0   2017    HYUNDAI   \n",
       "139217  1C4JJXP69P  Pacific  Long Beach    WA  98634.0   2023       JEEP   \n",
       "140273  5YJRE11B48      NaN         NaN    BC      NaN   2008      TESLA   \n",
       "154970  1N4AZ0CP1D      NaN         NaN    AP      NaN   2013     NISSAN   \n",
       "\n",
       "              Model                                  EVType  \\\n",
       "98          MODEL X          Battery Electric Vehicle (BEV)   \n",
       "100         MODEL S          Battery Electric Vehicle (BEV)   \n",
       "97863   PRIUS PRIME  Plug-in Hybrid Electric Vehicle (PHEV)   \n",
       "132425      MODEL 3          Battery Electric Vehicle (BEV)   \n",
       "134650      BOLT EV          Battery Electric Vehicle (BEV)   \n",
       "136489      SOUL EV          Battery Electric Vehicle (BEV)   \n",
       "137458       SONATA  Plug-in Hybrid Electric Vehicle (PHEV)   \n",
       "139217     WRANGLER  Plug-in Hybrid Electric Vehicle (PHEV)   \n",
       "140273     ROADSTER          Battery Electric Vehicle (BEV)   \n",
       "154970         LEAF          Battery Electric Vehicle (BEV)   \n",
       "\n",
       "                                                     CAFV  EleRange   MSRP  \\\n",
       "98                Clean Alternative Fuel Vehicle Eligible       200      0   \n",
       "100               Clean Alternative Fuel Vehicle Eligible       249      0   \n",
       "97863               Not eligible due to low battery range        25      0   \n",
       "132425            Clean Alternative Fuel Vehicle Eligible       220      0   \n",
       "134650  Eligibility unknown as battery range has not b...         0      0   \n",
       "136489            Clean Alternative Fuel Vehicle Eligible        93  32250   \n",
       "137458              Not eligible due to low battery range        27      0   \n",
       "139217              Not eligible due to low battery range        21      0   \n",
       "140273            Clean Alternative Fuel Vehicle Eligible       220  98950   \n",
       "154970            Clean Alternative Fuel Vehicle Eligible        75      0   \n",
       "\n",
       "        LegDist      DOLID Location  \\\n",
       "98          NaN  159850029      NaN   \n",
       "100         NaN  220643132      NaN   \n",
       "97863      19.0  171247282      NaN   \n",
       "132425      NaN  475254825      NaN   \n",
       "134650     19.0  218102209      NaN   \n",
       "136489     19.0  106442773      NaN   \n",
       "137458     19.0  245533578      NaN   \n",
       "139217     19.0  254934886      NaN   \n",
       "140273      NaN  143609049      NaN   \n",
       "154970      NaN  112277063      NaN   \n",
       "\n",
       "                                                  EleUtil   CensusTract  \n",
       "98                                                    NaN           NaN  \n",
       "100                                                   NaN           NaN  \n",
       "97863   BONNEVILLE POWER ADMINISTRATION||PUD NO 2 OF P...  5.304995e+10  \n",
       "132425                                                NaN           NaN  \n",
       "134650  BONNEVILLE POWER ADMINISTRATION||PUD NO 2 OF P...  5.304995e+10  \n",
       "136489  BONNEVILLE POWER ADMINISTRATION||PUD NO 2 OF P...  5.304995e+10  \n",
       "137458  BONNEVILLE POWER ADMINISTRATION||PUD NO 2 OF P...  5.304995e+10  \n",
       "139217  BONNEVILLE POWER ADMINISTRATION||PUD NO 2 OF P...  5.304995e+10  \n",
       "140273                                                NaN           NaN  \n",
       "154970                                                NaN           NaN  "
      ]
     },
     "execution_count": 10,
     "metadata": {},
     "output_type": "execute_result"
    }
   ],
   "source": [
    "missing_location = df[df['Location'].isnull()]\n",
    "\n",
    "# Display the records where 'location' is missing\n",
    "pd.DataFrame(missing_location)"
   ]
  },
  {
   "cell_type": "code",
   "execution_count": 11,
   "id": "b79b8781",
   "metadata": {
    "scrolled": true
   },
   "outputs": [
    {
     "data": {
      "text/html": [
       "<div>\n",
       "<style scoped>\n",
       "    .dataframe tbody tr th:only-of-type {\n",
       "        vertical-align: middle;\n",
       "    }\n",
       "\n",
       "    .dataframe tbody tr th {\n",
       "        vertical-align: top;\n",
       "    }\n",
       "\n",
       "    .dataframe thead th {\n",
       "        text-align: right;\n",
       "    }\n",
       "</style>\n",
       "<table border=\"1\" class=\"dataframe\">\n",
       "  <thead>\n",
       "    <tr style=\"text-align: right;\">\n",
       "      <th></th>\n",
       "      <th>VIN</th>\n",
       "      <th>County</th>\n",
       "      <th>City</th>\n",
       "      <th>State</th>\n",
       "      <th>ZIP</th>\n",
       "      <th>ModYr</th>\n",
       "      <th>Make</th>\n",
       "      <th>Model</th>\n",
       "      <th>EVType</th>\n",
       "      <th>CAFV</th>\n",
       "      <th>EleRange</th>\n",
       "      <th>MSRP</th>\n",
       "      <th>LegDist</th>\n",
       "      <th>DOLID</th>\n",
       "      <th>Location</th>\n",
       "      <th>EleUtil</th>\n",
       "      <th>CensusTract</th>\n",
       "    </tr>\n",
       "  </thead>\n",
       "  <tbody>\n",
       "    <tr>\n",
       "      <th>0</th>\n",
       "      <td>3C3CFFGE4E</td>\n",
       "      <td>Yakima</td>\n",
       "      <td>Yakima</td>\n",
       "      <td>WA</td>\n",
       "      <td>98902.0</td>\n",
       "      <td>2014</td>\n",
       "      <td>FIAT</td>\n",
       "      <td>500</td>\n",
       "      <td>Battery Electric Vehicle (BEV)</td>\n",
       "      <td>Clean Alternative Fuel Vehicle Eligible</td>\n",
       "      <td>87</td>\n",
       "      <td>0</td>\n",
       "      <td>14.0</td>\n",
       "      <td>1593721</td>\n",
       "      <td>POINT (-120.524012 46.5973939)</td>\n",
       "      <td>PACIFICORP</td>\n",
       "      <td>5.307700e+10</td>\n",
       "    </tr>\n",
       "    <tr>\n",
       "      <th>1</th>\n",
       "      <td>5YJXCBE40H</td>\n",
       "      <td>Thurston</td>\n",
       "      <td>Olympia</td>\n",
       "      <td>WA</td>\n",
       "      <td>98513.0</td>\n",
       "      <td>2017</td>\n",
       "      <td>TESLA</td>\n",
       "      <td>MODEL X</td>\n",
       "      <td>Battery Electric Vehicle (BEV)</td>\n",
       "      <td>Clean Alternative Fuel Vehicle Eligible</td>\n",
       "      <td>200</td>\n",
       "      <td>0</td>\n",
       "      <td>2.0</td>\n",
       "      <td>257167501</td>\n",
       "      <td>POINT (-122.817545 46.98876)</td>\n",
       "      <td>PUGET SOUND ENERGY INC</td>\n",
       "      <td>5.306701e+10</td>\n",
       "    </tr>\n",
       "    <tr>\n",
       "      <th>2</th>\n",
       "      <td>3MW39FS03P</td>\n",
       "      <td>King</td>\n",
       "      <td>Renton</td>\n",
       "      <td>WA</td>\n",
       "      <td>98058.0</td>\n",
       "      <td>2023</td>\n",
       "      <td>BMW</td>\n",
       "      <td>330E</td>\n",
       "      <td>Plug-in Hybrid Electric Vehicle (PHEV)</td>\n",
       "      <td>Not eligible due to low battery range</td>\n",
       "      <td>20</td>\n",
       "      <td>0</td>\n",
       "      <td>11.0</td>\n",
       "      <td>224071816</td>\n",
       "      <td>POINT (-122.1298876 47.4451257)</td>\n",
       "      <td>PUGET SOUND ENERGY INC||CITY OF TACOMA - (WA)</td>\n",
       "      <td>5.303303e+10</td>\n",
       "    </tr>\n",
       "    <tr>\n",
       "      <th>3</th>\n",
       "      <td>7PDSGABA8P</td>\n",
       "      <td>Snohomish</td>\n",
       "      <td>Bothell</td>\n",
       "      <td>WA</td>\n",
       "      <td>98012.0</td>\n",
       "      <td>2023</td>\n",
       "      <td>RIVIAN</td>\n",
       "      <td>R1S</td>\n",
       "      <td>Battery Electric Vehicle (BEV)</td>\n",
       "      <td>Eligibility unknown as battery range has not b...</td>\n",
       "      <td>0</td>\n",
       "      <td>0</td>\n",
       "      <td>21.0</td>\n",
       "      <td>260084653</td>\n",
       "      <td>POINT (-122.1873 47.820245)</td>\n",
       "      <td>PUGET SOUND ENERGY INC</td>\n",
       "      <td>5.306105e+10</td>\n",
       "    </tr>\n",
       "    <tr>\n",
       "      <th>4</th>\n",
       "      <td>5YJ3E1EB8L</td>\n",
       "      <td>King</td>\n",
       "      <td>Kent</td>\n",
       "      <td>WA</td>\n",
       "      <td>98031.0</td>\n",
       "      <td>2020</td>\n",
       "      <td>TESLA</td>\n",
       "      <td>MODEL 3</td>\n",
       "      <td>Battery Electric Vehicle (BEV)</td>\n",
       "      <td>Clean Alternative Fuel Vehicle Eligible</td>\n",
       "      <td>322</td>\n",
       "      <td>0</td>\n",
       "      <td>33.0</td>\n",
       "      <td>253771913</td>\n",
       "      <td>POINT (-122.2012521 47.3931814)</td>\n",
       "      <td>PUGET SOUND ENERGY INC||CITY OF TACOMA - (WA)</td>\n",
       "      <td>5.303303e+10</td>\n",
       "    </tr>\n",
       "  </tbody>\n",
       "</table>\n",
       "</div>"
      ],
      "text/plain": [
       "          VIN     County     City State      ZIP  ModYr    Make    Model  \\\n",
       "0  3C3CFFGE4E     Yakima   Yakima    WA  98902.0   2014    FIAT      500   \n",
       "1  5YJXCBE40H   Thurston  Olympia    WA  98513.0   2017   TESLA  MODEL X   \n",
       "2  3MW39FS03P       King   Renton    WA  98058.0   2023     BMW     330E   \n",
       "3  7PDSGABA8P  Snohomish  Bothell    WA  98012.0   2023  RIVIAN      R1S   \n",
       "4  5YJ3E1EB8L       King     Kent    WA  98031.0   2020   TESLA  MODEL 3   \n",
       "\n",
       "                                   EVType  \\\n",
       "0          Battery Electric Vehicle (BEV)   \n",
       "1          Battery Electric Vehicle (BEV)   \n",
       "2  Plug-in Hybrid Electric Vehicle (PHEV)   \n",
       "3          Battery Electric Vehicle (BEV)   \n",
       "4          Battery Electric Vehicle (BEV)   \n",
       "\n",
       "                                                CAFV  EleRange  MSRP  LegDist  \\\n",
       "0            Clean Alternative Fuel Vehicle Eligible        87     0     14.0   \n",
       "1            Clean Alternative Fuel Vehicle Eligible       200     0      2.0   \n",
       "2              Not eligible due to low battery range        20     0     11.0   \n",
       "3  Eligibility unknown as battery range has not b...         0     0     21.0   \n",
       "4            Clean Alternative Fuel Vehicle Eligible       322     0     33.0   \n",
       "\n",
       "       DOLID                         Location  \\\n",
       "0    1593721   POINT (-120.524012 46.5973939)   \n",
       "1  257167501     POINT (-122.817545 46.98876)   \n",
       "2  224071816  POINT (-122.1298876 47.4451257)   \n",
       "3  260084653      POINT (-122.1873 47.820245)   \n",
       "4  253771913  POINT (-122.2012521 47.3931814)   \n",
       "\n",
       "                                         EleUtil   CensusTract  \n",
       "0                                     PACIFICORP  5.307700e+10  \n",
       "1                         PUGET SOUND ENERGY INC  5.306701e+10  \n",
       "2  PUGET SOUND ENERGY INC||CITY OF TACOMA - (WA)  5.303303e+10  \n",
       "3                         PUGET SOUND ENERGY INC  5.306105e+10  \n",
       "4  PUGET SOUND ENERGY INC||CITY OF TACOMA - (WA)  5.303303e+10  "
      ]
     },
     "execution_count": 11,
     "metadata": {},
     "output_type": "execute_result"
    }
   ],
   "source": [
    "# Records to drop\n",
    "records_to_drop = missing_location.index\n",
    "\n",
    "# Drop records from the original DataFrame\n",
    "df = df.drop(records_to_drop)\n",
    "df.head()"
   ]
  },
  {
   "cell_type": "code",
   "execution_count": 12,
   "id": "73b7aa5a",
   "metadata": {
    "scrolled": true
   },
   "outputs": [
    {
     "data": {
      "text/plain": [
       "VIN              0\n",
       "County           0\n",
       "City             0\n",
       "State            0\n",
       "ZIP              0\n",
       "ModYr            0\n",
       "Make             0\n",
       "Model            0\n",
       "EVType           0\n",
       "CAFV             0\n",
       "EleRange         0\n",
       "MSRP             0\n",
       "LegDist        355\n",
       "DOLID            0\n",
       "Location         0\n",
       "EleUtil          0\n",
       "CensusTract      0\n",
       "dtype: int64"
      ]
     },
     "execution_count": 12,
     "metadata": {},
     "output_type": "execute_result"
    }
   ],
   "source": [
    "# Confirm records with missing values are dropped\n",
    "df.isnull().sum()"
   ]
  },
  {
   "cell_type": "code",
   "execution_count": 13,
   "id": "1e20f9b0",
   "metadata": {
    "id": "1e20f9b0",
    "outputId": "b79b9ddd-5f0d-436e-9e14-cfc8545fef88"
   },
   "outputs": [],
   "source": [
    "# Changed to comment: No longer needed after dropping states\n",
    "# # Drop rows where ZIP is null\n",
    "# df.drop(df[df['ZIP'].isnull()].index, inplace=True)\n",
    "# df.isnull().sum()"
   ]
  },
  {
   "cell_type": "markdown",
   "id": "5e94b34b",
   "metadata": {},
   "source": [
    "## Test"
   ]
  },
  {
   "cell_type": "code",
   "execution_count": 14,
   "id": "3d8cbb3f",
   "metadata": {},
   "outputs": [],
   "source": [
    "# # Dropping unnecessary columns\n",
    "# dropped_columns=['DOLID', 'Location', 'EleUtil', 'CensusTract', 'LegDist']\n",
    "# df = df.drop(columns=dropped_columns)\n",
    "# df.head()"
   ]
  },
  {
   "cell_type": "code",
   "execution_count": 15,
   "id": "273d763b",
   "metadata": {},
   "outputs": [],
   "source": [
    "# from sklearn.preprocessing import StandardScaler\n",
    "# from sklearn.compose import ColumnTransformer\n",
    "# from sklearn.model_selection import train_test_split\n",
    "# from sklearn.ensemble import RandomForestClassifier\n",
    "# from sklearn.metrics import accuracy_score\n",
    "\n",
    "# X = df.drop('CAFV', axis=1)\n",
    "# y = df['CAFV']\n",
    "\n",
    "# # Define categorical and numerical columns\n",
    "# numerical_cols = ['ZIP', 'ModYr', 'EleRange', 'MSRP']\n",
    "# categorical_cols = [col for col in X.columns if col not in numerical_cols]\n",
    "\n",
    "# # Preprocessing with ColumnTransformer\n",
    "# preprocessor = ColumnTransformer(\n",
    "#     transformers=[\n",
    "#         ('num', StandardScaler(), numerical_cols),\n",
    "#         ('cat', OneHotEncoder(), categorical_cols)\n",
    "#     ])\n",
    "\n",
    "# # Apply preprocessing\n",
    "# X_processed = preprocessor.fit_transform(X)\n",
    "\n",
    "# # Train/Test/Split\n",
    "# X_train, X_test, y_train, y_test = train_test_split(X_processed, y, test_size=0.2, random_state=42)\n",
    "\n",
    "# # Train the model\n",
    "# model = RandomForestClassifier()\n",
    "# model.fit(X_train, y_train)\n",
    "\n",
    "# # Make predictions\n",
    "# y_pred = model.predict(X_test)\n",
    "\n",
    "# # Evaluate model performance\n",
    "# accuracy = accuracy_score(y_test, y_pred)\n",
    "# print(\"Accuracy:\", accuracy)"
   ]
  },
  {
   "cell_type": "code",
   "execution_count": 16,
   "id": "35fb6f5e",
   "metadata": {},
   "outputs": [
    {
     "data": {
      "text/html": [
       "<div>\n",
       "<style scoped>\n",
       "    .dataframe tbody tr th:only-of-type {\n",
       "        vertical-align: middle;\n",
       "    }\n",
       "\n",
       "    .dataframe tbody tr th {\n",
       "        vertical-align: top;\n",
       "    }\n",
       "\n",
       "    .dataframe thead th {\n",
       "        text-align: right;\n",
       "    }\n",
       "</style>\n",
       "<table border=\"1\" class=\"dataframe\">\n",
       "  <thead>\n",
       "    <tr style=\"text-align: right;\">\n",
       "      <th></th>\n",
       "      <th>VIN</th>\n",
       "      <th>State</th>\n",
       "      <th>ModYr</th>\n",
       "      <th>Make</th>\n",
       "      <th>Model</th>\n",
       "      <th>EVType</th>\n",
       "      <th>CAFV</th>\n",
       "      <th>EleRange</th>\n",
       "    </tr>\n",
       "  </thead>\n",
       "  <tbody>\n",
       "    <tr>\n",
       "      <th>0</th>\n",
       "      <td>3C3CFFGE4E</td>\n",
       "      <td>WA</td>\n",
       "      <td>2014</td>\n",
       "      <td>FIAT</td>\n",
       "      <td>500</td>\n",
       "      <td>Battery Electric Vehicle (BEV)</td>\n",
       "      <td>Clean Alternative Fuel Vehicle Eligible</td>\n",
       "      <td>87</td>\n",
       "    </tr>\n",
       "    <tr>\n",
       "      <th>1</th>\n",
       "      <td>5YJXCBE40H</td>\n",
       "      <td>WA</td>\n",
       "      <td>2017</td>\n",
       "      <td>TESLA</td>\n",
       "      <td>MODEL X</td>\n",
       "      <td>Battery Electric Vehicle (BEV)</td>\n",
       "      <td>Clean Alternative Fuel Vehicle Eligible</td>\n",
       "      <td>200</td>\n",
       "    </tr>\n",
       "    <tr>\n",
       "      <th>2</th>\n",
       "      <td>3MW39FS03P</td>\n",
       "      <td>WA</td>\n",
       "      <td>2023</td>\n",
       "      <td>BMW</td>\n",
       "      <td>330E</td>\n",
       "      <td>Plug-in Hybrid Electric Vehicle (PHEV)</td>\n",
       "      <td>Not eligible due to low battery range</td>\n",
       "      <td>20</td>\n",
       "    </tr>\n",
       "    <tr>\n",
       "      <th>3</th>\n",
       "      <td>7PDSGABA8P</td>\n",
       "      <td>WA</td>\n",
       "      <td>2023</td>\n",
       "      <td>RIVIAN</td>\n",
       "      <td>R1S</td>\n",
       "      <td>Battery Electric Vehicle (BEV)</td>\n",
       "      <td>Eligibility unknown as battery range has not b...</td>\n",
       "      <td>0</td>\n",
       "    </tr>\n",
       "    <tr>\n",
       "      <th>4</th>\n",
       "      <td>5YJ3E1EB8L</td>\n",
       "      <td>WA</td>\n",
       "      <td>2020</td>\n",
       "      <td>TESLA</td>\n",
       "      <td>MODEL 3</td>\n",
       "      <td>Battery Electric Vehicle (BEV)</td>\n",
       "      <td>Clean Alternative Fuel Vehicle Eligible</td>\n",
       "      <td>322</td>\n",
       "    </tr>\n",
       "  </tbody>\n",
       "</table>\n",
       "</div>"
      ],
      "text/plain": [
       "          VIN State  ModYr    Make    Model  \\\n",
       "0  3C3CFFGE4E    WA   2014    FIAT      500   \n",
       "1  5YJXCBE40H    WA   2017   TESLA  MODEL X   \n",
       "2  3MW39FS03P    WA   2023     BMW     330E   \n",
       "3  7PDSGABA8P    WA   2023  RIVIAN      R1S   \n",
       "4  5YJ3E1EB8L    WA   2020   TESLA  MODEL 3   \n",
       "\n",
       "                                   EVType  \\\n",
       "0          Battery Electric Vehicle (BEV)   \n",
       "1          Battery Electric Vehicle (BEV)   \n",
       "2  Plug-in Hybrid Electric Vehicle (PHEV)   \n",
       "3          Battery Electric Vehicle (BEV)   \n",
       "4          Battery Electric Vehicle (BEV)   \n",
       "\n",
       "                                                CAFV  EleRange  \n",
       "0            Clean Alternative Fuel Vehicle Eligible        87  \n",
       "1            Clean Alternative Fuel Vehicle Eligible       200  \n",
       "2              Not eligible due to low battery range        20  \n",
       "3  Eligibility unknown as battery range has not b...         0  \n",
       "4            Clean Alternative Fuel Vehicle Eligible       322  "
      ]
     },
     "execution_count": 16,
     "metadata": {},
     "output_type": "execute_result"
    }
   ],
   "source": [
    "# Dropping unnecessary columns\n",
    "dropped_columns=['MSRP', 'County', 'City', 'ZIP', 'LegDist', 'DOLID', 'Location', 'EleUtil', 'CensusTract']\n",
    "df = df.drop(columns=dropped_columns)\n",
    "df.head()"
   ]
  },
  {
   "cell_type": "markdown",
   "id": "c20efb0b",
   "metadata": {},
   "source": [
    "## Check column with categorical features"
   ]
  },
  {
   "cell_type": "markdown",
   "id": "9cf95724",
   "metadata": {},
   "source": [
    "**VIN column**"
   ]
  },
  {
   "cell_type": "code",
   "execution_count": 17,
   "id": "7bbc725c",
   "metadata": {},
   "outputs": [
    {
     "data": {
      "text/plain": [
       "VIN\n",
       "7SAYGDEE6P    1114\n",
       "7SAYGDEE7P    1090\n",
       "7SAYGDEE8P    1071\n",
       "7SAYGDEEXP    1071\n",
       "7SAYGDEE0P    1052\n",
       "              ... \n",
       "WAU8HAF88L       1\n",
       "1GYKPMRL8R       1\n",
       "YV4BR0CM2M       1\n",
       "YV4ED3GKXP       1\n",
       "YV4ED3GK6P       1\n",
       "Name: count, Length: 10315, dtype: int64"
      ]
     },
     "execution_count": 17,
     "metadata": {},
     "output_type": "execute_result"
    }
   ],
   "source": [
    "df['VIN'].value_counts()"
   ]
  },
  {
   "cell_type": "code",
   "execution_count": 18,
   "id": "a1c6cfab",
   "metadata": {},
   "outputs": [
    {
     "name": "stdout",
     "output_type": "stream",
     "text": [
      "<bound method DataFrame.duplicated of                VIN State  ModYr  Make Model                          EVType  \\\n",
      "0       3C3CFFGE4E    WA   2014  FIAT   500  Battery Electric Vehicle (BEV)   \n",
      "22444   3C3CFFGE4E    WA   2014  FIAT   500  Battery Electric Vehicle (BEV)   \n",
      "23467   3C3CFFGE4E    WA   2014  FIAT   500  Battery Electric Vehicle (BEV)   \n",
      "45870   3C3CFFGE4E    WA   2014  FIAT   500  Battery Electric Vehicle (BEV)   \n",
      "71054   3C3CFFGE4E    WA   2014  FIAT   500  Battery Electric Vehicle (BEV)   \n",
      "74212   3C3CFFGE4E    WA   2014  FIAT   500  Battery Electric Vehicle (BEV)   \n",
      "135211  3C3CFFGE4E    WA   2014  FIAT   500  Battery Electric Vehicle (BEV)   \n",
      "147036  3C3CFFGE4E    WA   2014  FIAT   500  Battery Electric Vehicle (BEV)   \n",
      "\n",
      "                                           CAFV  EleRange  \n",
      "0       Clean Alternative Fuel Vehicle Eligible        87  \n",
      "22444   Clean Alternative Fuel Vehicle Eligible        87  \n",
      "23467   Clean Alternative Fuel Vehicle Eligible        87  \n",
      "45870   Clean Alternative Fuel Vehicle Eligible        87  \n",
      "71054   Clean Alternative Fuel Vehicle Eligible        87  \n",
      "74212   Clean Alternative Fuel Vehicle Eligible        87  \n",
      "135211  Clean Alternative Fuel Vehicle Eligible        87  \n",
      "147036  Clean Alternative Fuel Vehicle Eligible        87  >\n"
     ]
    }
   ],
   "source": [
    "check_vin = df[df['VIN']=='3C3CFFGE4E'].duplicated\n",
    "print(check_vin)"
   ]
  },
  {
   "cell_type": "code",
   "execution_count": 19,
   "id": "064a3da7",
   "metadata": {},
   "outputs": [],
   "source": [
    "def unique_vins(vin_list):\n",
    "    unique_vins = []\n",
    "\n",
    "    # Initialize a set to keep track of seen VINs\n",
    "    seen_vins = set()\n",
    "\n",
    "    # Loop through the VIN list\n",
    "    for vin in vin_list:\n",
    "        # Check if the VIN is not already seen\n",
    "        if vin not in seen_vins:\n",
    "            # Add the VIN to the unique list\n",
    "            unique_vins.append(vin)\n",
    "            # Add the VIN to the set of seen VINs\n",
    "            seen_vins.add(vin)\n",
    "\n",
    "    return unique_vins"
   ]
  },
  {
   "cell_type": "code",
   "execution_count": 20,
   "id": "cac14296",
   "metadata": {},
   "outputs": [
    {
     "data": {
      "text/plain": [
       "10315"
      ]
     },
     "execution_count": 20,
     "metadata": {},
     "output_type": "execute_result"
    }
   ],
   "source": [
    "unique_vins = unique_vins(df['VIN'])\n",
    "len(unique_vins)"
   ]
  },
  {
   "cell_type": "markdown",
   "id": "0618bb02",
   "metadata": {},
   "source": [
    "Question: Frequency Encoding?"
   ]
  },
  {
   "cell_type": "code",
   "execution_count": 21,
   "id": "698a12a3",
   "metadata": {},
   "outputs": [],
   "source": [
    "# # Calculate frequency of each category\n",
    "# frequency_map = df['VIN'].value_counts(normalize=True)\n",
    "\n",
    "# # Map frequencies to the original categories\n",
    "# df['VIN'] = df['VIN'].map(frequency_map)\n",
    "# df.head()"
   ]
  },
  {
   "cell_type": "code",
   "execution_count": 22,
   "id": "47852481",
   "metadata": {},
   "outputs": [],
   "source": [
    "# # Check duplicate values for VIN '8' (First record of this df)\n",
    "# check_vin = df[df['VIN']==8].duplicated\n",
    "# print(check_vin)\n",
    "\n",
    "# # Check duplicate values for VIN '0.000024' (First record of this df)\n",
    "# check_vin = df[df['VIN']==0.000048].duplicated\n",
    "# print(check_vin)"
   ]
  },
  {
   "cell_type": "code",
   "execution_count": 23,
   "id": "5602c700",
   "metadata": {},
   "outputs": [
    {
     "data": {
      "text/html": [
       "<div>\n",
       "<style scoped>\n",
       "    .dataframe tbody tr th:only-of-type {\n",
       "        vertical-align: middle;\n",
       "    }\n",
       "\n",
       "    .dataframe tbody tr th {\n",
       "        vertical-align: top;\n",
       "    }\n",
       "\n",
       "    .dataframe thead th {\n",
       "        text-align: right;\n",
       "    }\n",
       "</style>\n",
       "<table border=\"1\" class=\"dataframe\">\n",
       "  <thead>\n",
       "    <tr style=\"text-align: right;\">\n",
       "      <th></th>\n",
       "      <th>State</th>\n",
       "      <th>ModYr</th>\n",
       "      <th>Make</th>\n",
       "      <th>Model</th>\n",
       "      <th>EVType</th>\n",
       "      <th>CAFV</th>\n",
       "      <th>EleRange</th>\n",
       "    </tr>\n",
       "  </thead>\n",
       "  <tbody>\n",
       "    <tr>\n",
       "      <th>0</th>\n",
       "      <td>WA</td>\n",
       "      <td>2014</td>\n",
       "      <td>FIAT</td>\n",
       "      <td>500</td>\n",
       "      <td>Battery Electric Vehicle (BEV)</td>\n",
       "      <td>Clean Alternative Fuel Vehicle Eligible</td>\n",
       "      <td>87</td>\n",
       "    </tr>\n",
       "    <tr>\n",
       "      <th>1</th>\n",
       "      <td>WA</td>\n",
       "      <td>2017</td>\n",
       "      <td>TESLA</td>\n",
       "      <td>MODEL X</td>\n",
       "      <td>Battery Electric Vehicle (BEV)</td>\n",
       "      <td>Clean Alternative Fuel Vehicle Eligible</td>\n",
       "      <td>200</td>\n",
       "    </tr>\n",
       "    <tr>\n",
       "      <th>2</th>\n",
       "      <td>WA</td>\n",
       "      <td>2023</td>\n",
       "      <td>BMW</td>\n",
       "      <td>330E</td>\n",
       "      <td>Plug-in Hybrid Electric Vehicle (PHEV)</td>\n",
       "      <td>Not eligible due to low battery range</td>\n",
       "      <td>20</td>\n",
       "    </tr>\n",
       "    <tr>\n",
       "      <th>3</th>\n",
       "      <td>WA</td>\n",
       "      <td>2023</td>\n",
       "      <td>RIVIAN</td>\n",
       "      <td>R1S</td>\n",
       "      <td>Battery Electric Vehicle (BEV)</td>\n",
       "      <td>Eligibility unknown as battery range has not b...</td>\n",
       "      <td>0</td>\n",
       "    </tr>\n",
       "    <tr>\n",
       "      <th>4</th>\n",
       "      <td>WA</td>\n",
       "      <td>2020</td>\n",
       "      <td>TESLA</td>\n",
       "      <td>MODEL 3</td>\n",
       "      <td>Battery Electric Vehicle (BEV)</td>\n",
       "      <td>Clean Alternative Fuel Vehicle Eligible</td>\n",
       "      <td>322</td>\n",
       "    </tr>\n",
       "  </tbody>\n",
       "</table>\n",
       "</div>"
      ],
      "text/plain": [
       "  State  ModYr    Make    Model                                  EVType  \\\n",
       "0    WA   2014    FIAT      500          Battery Electric Vehicle (BEV)   \n",
       "1    WA   2017   TESLA  MODEL X          Battery Electric Vehicle (BEV)   \n",
       "2    WA   2023     BMW     330E  Plug-in Hybrid Electric Vehicle (PHEV)   \n",
       "3    WA   2023  RIVIAN      R1S          Battery Electric Vehicle (BEV)   \n",
       "4    WA   2020   TESLA  MODEL 3          Battery Electric Vehicle (BEV)   \n",
       "\n",
       "                                                CAFV  EleRange  \n",
       "0            Clean Alternative Fuel Vehicle Eligible        87  \n",
       "1            Clean Alternative Fuel Vehicle Eligible       200  \n",
       "2              Not eligible due to low battery range        20  \n",
       "3  Eligibility unknown as battery range has not b...         0  \n",
       "4            Clean Alternative Fuel Vehicle Eligible       322  "
      ]
     },
     "execution_count": 23,
     "metadata": {},
     "output_type": "execute_result"
    }
   ],
   "source": [
    "df = df.drop(columns='VIN')\n",
    "df.head()"
   ]
  },
  {
   "cell_type": "markdown",
   "id": "fa4c807e",
   "metadata": {},
   "source": [
    "**State column**"
   ]
  },
  {
   "cell_type": "code",
   "execution_count": 24,
   "id": "573760ae",
   "metadata": {
    "scrolled": true
   },
   "outputs": [
    {
     "data": {
      "text/plain": [
       "array(['WA', 'VA', 'CA', 'NC', 'IL', 'MO', 'DC', 'MD', 'SC', 'PA', 'NE',\n",
       "       'KY', 'TX', 'KS', 'GA', 'CO', 'FL', 'OR', 'AL', 'MI', 'LA', 'NY',\n",
       "       'NJ', 'IN', 'NV', 'MN', 'OH', 'DE', 'CT', 'HI', 'NH', 'OK', 'AZ',\n",
       "       'UT', 'MA', 'WY', 'AR', 'IA', 'RI', 'AK', 'ID'], dtype=object)"
      ]
     },
     "execution_count": 24,
     "metadata": {},
     "output_type": "execute_result"
    }
   ],
   "source": [
    "# Check unique values in State column\n",
    "df['State'].unique()"
   ]
  },
  {
   "cell_type": "code",
   "execution_count": 25,
   "id": "fc918849",
   "metadata": {},
   "outputs": [
    {
     "data": {
      "text/html": [
       "<div>\n",
       "<style scoped>\n",
       "    .dataframe tbody tr th:only-of-type {\n",
       "        vertical-align: middle;\n",
       "    }\n",
       "\n",
       "    .dataframe tbody tr th {\n",
       "        vertical-align: top;\n",
       "    }\n",
       "\n",
       "    .dataframe thead th {\n",
       "        text-align: right;\n",
       "    }\n",
       "</style>\n",
       "<table border=\"1\" class=\"dataframe\">\n",
       "  <thead>\n",
       "    <tr style=\"text-align: right;\">\n",
       "      <th></th>\n",
       "      <th>ModYr</th>\n",
       "      <th>Make</th>\n",
       "      <th>Model</th>\n",
       "      <th>EVType</th>\n",
       "      <th>CAFV</th>\n",
       "      <th>EleRange</th>\n",
       "    </tr>\n",
       "  </thead>\n",
       "  <tbody>\n",
       "    <tr>\n",
       "      <th>0</th>\n",
       "      <td>2014</td>\n",
       "      <td>FIAT</td>\n",
       "      <td>500</td>\n",
       "      <td>Battery Electric Vehicle (BEV)</td>\n",
       "      <td>Clean Alternative Fuel Vehicle Eligible</td>\n",
       "      <td>87</td>\n",
       "    </tr>\n",
       "    <tr>\n",
       "      <th>1</th>\n",
       "      <td>2017</td>\n",
       "      <td>TESLA</td>\n",
       "      <td>MODEL X</td>\n",
       "      <td>Battery Electric Vehicle (BEV)</td>\n",
       "      <td>Clean Alternative Fuel Vehicle Eligible</td>\n",
       "      <td>200</td>\n",
       "    </tr>\n",
       "    <tr>\n",
       "      <th>2</th>\n",
       "      <td>2023</td>\n",
       "      <td>BMW</td>\n",
       "      <td>330E</td>\n",
       "      <td>Plug-in Hybrid Electric Vehicle (PHEV)</td>\n",
       "      <td>Not eligible due to low battery range</td>\n",
       "      <td>20</td>\n",
       "    </tr>\n",
       "    <tr>\n",
       "      <th>3</th>\n",
       "      <td>2023</td>\n",
       "      <td>RIVIAN</td>\n",
       "      <td>R1S</td>\n",
       "      <td>Battery Electric Vehicle (BEV)</td>\n",
       "      <td>Eligibility unknown as battery range has not b...</td>\n",
       "      <td>0</td>\n",
       "    </tr>\n",
       "    <tr>\n",
       "      <th>4</th>\n",
       "      <td>2020</td>\n",
       "      <td>TESLA</td>\n",
       "      <td>MODEL 3</td>\n",
       "      <td>Battery Electric Vehicle (BEV)</td>\n",
       "      <td>Clean Alternative Fuel Vehicle Eligible</td>\n",
       "      <td>322</td>\n",
       "    </tr>\n",
       "  </tbody>\n",
       "</table>\n",
       "</div>"
      ],
      "text/plain": [
       "   ModYr    Make    Model                                  EVType  \\\n",
       "0   2014    FIAT      500          Battery Electric Vehicle (BEV)   \n",
       "1   2017   TESLA  MODEL X          Battery Electric Vehicle (BEV)   \n",
       "2   2023     BMW     330E  Plug-in Hybrid Electric Vehicle (PHEV)   \n",
       "3   2023  RIVIAN      R1S          Battery Electric Vehicle (BEV)   \n",
       "4   2020   TESLA  MODEL 3          Battery Electric Vehicle (BEV)   \n",
       "\n",
       "                                                CAFV  EleRange  \n",
       "0            Clean Alternative Fuel Vehicle Eligible        87  \n",
       "1            Clean Alternative Fuel Vehicle Eligible       200  \n",
       "2              Not eligible due to low battery range        20  \n",
       "3  Eligibility unknown as battery range has not b...         0  \n",
       "4            Clean Alternative Fuel Vehicle Eligible       322  "
      ]
     },
     "execution_count": 25,
     "metadata": {},
     "output_type": "execute_result"
    }
   ],
   "source": [
    "# Drop all values if the state is not 'WA'\n",
    "df = df[df['State'] == 'WA']\n",
    "# Drop 'State' column since we only kept vehicles in 'WA'\n",
    "df = df.drop(columns='State')\n",
    "df.head()"
   ]
  },
  {
   "cell_type": "code",
   "execution_count": 26,
   "id": "2c26bb07",
   "metadata": {},
   "outputs": [],
   "source": [
    "df_WA = df.copy()"
   ]
  },
  {
   "cell_type": "markdown",
   "id": "fa77fbc5",
   "metadata": {},
   "source": [
    "**Make column**"
   ]
  },
  {
   "cell_type": "code",
   "execution_count": 27,
   "id": "ba3bfb44",
   "metadata": {},
   "outputs": [
    {
     "data": {
      "text/plain": [
       "array(['FIAT', 'TESLA', 'BMW', 'RIVIAN', 'CHRYSLER', 'CHEVROLET', 'KIA',\n",
       "       'FORD', 'TOYOTA', 'NISSAN', 'MITSUBISHI', 'HONDA', 'AUDI', 'JEEP',\n",
       "       'VOLVO', 'HYUNDAI', 'VOLKSWAGEN', 'SUBARU', 'LUCID', 'MINI',\n",
       "       'POLESTAR', 'SMART', 'LINCOLN', 'MERCEDES-BENZ', 'LEXUS',\n",
       "       'PORSCHE', 'ALFA ROMEO', 'DODGE', 'JAGUAR', 'CADILLAC',\n",
       "       'LAND ROVER', 'MAZDA', 'GENESIS', 'FISKER', 'GMC', 'TH!NK',\n",
       "       'WHEEGO ELECTRIC CARS', 'AZURE DYNAMICS', 'BENTLEY'], dtype=object)"
      ]
     },
     "execution_count": 27,
     "metadata": {},
     "output_type": "execute_result"
    }
   ],
   "source": [
    "df_WA['Make'].unique()"
   ]
  },
  {
   "cell_type": "code",
   "execution_count": 28,
   "id": "150e0a9f",
   "metadata": {},
   "outputs": [
    {
     "data": {
      "text/plain": [
       "39"
      ]
     },
     "execution_count": 28,
     "metadata": {},
     "output_type": "execute_result"
    }
   ],
   "source": [
    "len(df_WA['Make'].value_counts())"
   ]
  },
  {
   "cell_type": "markdown",
   "id": "167b9ba0",
   "metadata": {},
   "source": [
    "**Question: Methods to consider**\n",
    "1) Downsampling\n",
    "2) Stratified Sampling"
   ]
  },
  {
   "cell_type": "markdown",
   "id": "f05ae3a5",
   "metadata": {},
   "source": [
    "**Model column**"
   ]
  },
  {
   "cell_type": "code",
   "execution_count": 29,
   "id": "15384af5",
   "metadata": {},
   "outputs": [
    {
     "data": {
      "text/plain": [
       "138"
      ]
     },
     "execution_count": 29,
     "metadata": {},
     "output_type": "execute_result"
    }
   ],
   "source": [
    "len(df_WA['Model'].unique())"
   ]
  },
  {
   "cell_type": "markdown",
   "id": "7b5c29c8",
   "metadata": {},
   "source": [
    "**Combine columns?**"
   ]
  },
  {
   "cell_type": "code",
   "execution_count": 30,
   "id": "dd82a749",
   "metadata": {},
   "outputs": [
    {
     "data": {
      "text/html": [
       "<div>\n",
       "<style scoped>\n",
       "    .dataframe tbody tr th:only-of-type {\n",
       "        vertical-align: middle;\n",
       "    }\n",
       "\n",
       "    .dataframe tbody tr th {\n",
       "        vertical-align: top;\n",
       "    }\n",
       "\n",
       "    .dataframe thead th {\n",
       "        text-align: right;\n",
       "    }\n",
       "</style>\n",
       "<table border=\"1\" class=\"dataframe\">\n",
       "  <thead>\n",
       "    <tr style=\"text-align: right;\">\n",
       "      <th></th>\n",
       "      <th>ModYr</th>\n",
       "      <th>Make</th>\n",
       "      <th>Model</th>\n",
       "      <th>EVType</th>\n",
       "      <th>CAFV</th>\n",
       "      <th>EleRange</th>\n",
       "      <th>MM</th>\n",
       "    </tr>\n",
       "  </thead>\n",
       "  <tbody>\n",
       "    <tr>\n",
       "      <th>0</th>\n",
       "      <td>2014</td>\n",
       "      <td>FIAT</td>\n",
       "      <td>500</td>\n",
       "      <td>Battery Electric Vehicle (BEV)</td>\n",
       "      <td>Clean Alternative Fuel Vehicle Eligible</td>\n",
       "      <td>87</td>\n",
       "      <td>FIAT 500</td>\n",
       "    </tr>\n",
       "    <tr>\n",
       "      <th>1</th>\n",
       "      <td>2017</td>\n",
       "      <td>TESLA</td>\n",
       "      <td>MODEL X</td>\n",
       "      <td>Battery Electric Vehicle (BEV)</td>\n",
       "      <td>Clean Alternative Fuel Vehicle Eligible</td>\n",
       "      <td>200</td>\n",
       "      <td>TESLA MODEL X</td>\n",
       "    </tr>\n",
       "    <tr>\n",
       "      <th>2</th>\n",
       "      <td>2023</td>\n",
       "      <td>BMW</td>\n",
       "      <td>330E</td>\n",
       "      <td>Plug-in Hybrid Electric Vehicle (PHEV)</td>\n",
       "      <td>Not eligible due to low battery range</td>\n",
       "      <td>20</td>\n",
       "      <td>BMW 330E</td>\n",
       "    </tr>\n",
       "    <tr>\n",
       "      <th>3</th>\n",
       "      <td>2023</td>\n",
       "      <td>RIVIAN</td>\n",
       "      <td>R1S</td>\n",
       "      <td>Battery Electric Vehicle (BEV)</td>\n",
       "      <td>Eligibility unknown as battery range has not b...</td>\n",
       "      <td>0</td>\n",
       "      <td>RIVIAN R1S</td>\n",
       "    </tr>\n",
       "    <tr>\n",
       "      <th>4</th>\n",
       "      <td>2020</td>\n",
       "      <td>TESLA</td>\n",
       "      <td>MODEL 3</td>\n",
       "      <td>Battery Electric Vehicle (BEV)</td>\n",
       "      <td>Clean Alternative Fuel Vehicle Eligible</td>\n",
       "      <td>322</td>\n",
       "      <td>TESLA MODEL 3</td>\n",
       "    </tr>\n",
       "  </tbody>\n",
       "</table>\n",
       "</div>"
      ],
      "text/plain": [
       "   ModYr    Make    Model                                  EVType  \\\n",
       "0   2014    FIAT      500          Battery Electric Vehicle (BEV)   \n",
       "1   2017   TESLA  MODEL X          Battery Electric Vehicle (BEV)   \n",
       "2   2023     BMW     330E  Plug-in Hybrid Electric Vehicle (PHEV)   \n",
       "3   2023  RIVIAN      R1S          Battery Electric Vehicle (BEV)   \n",
       "4   2020   TESLA  MODEL 3          Battery Electric Vehicle (BEV)   \n",
       "\n",
       "                                                CAFV  EleRange             MM  \n",
       "0            Clean Alternative Fuel Vehicle Eligible        87       FIAT 500  \n",
       "1            Clean Alternative Fuel Vehicle Eligible       200  TESLA MODEL X  \n",
       "2              Not eligible due to low battery range        20       BMW 330E  \n",
       "3  Eligibility unknown as battery range has not b...         0     RIVIAN R1S  \n",
       "4            Clean Alternative Fuel Vehicle Eligible       322  TESLA MODEL 3  "
      ]
     },
     "execution_count": 30,
     "metadata": {},
     "output_type": "execute_result"
    }
   ],
   "source": [
    "df_WA['MM'] = df['Make'] + ' ' + df['Model']\n",
    "df_WA.head()"
   ]
  },
  {
   "cell_type": "code",
   "execution_count": 31,
   "id": "93f07667",
   "metadata": {},
   "outputs": [],
   "source": [
    "# Calculate frequency of each category\n",
    "frequency_map = df_WA['MM'].value_counts(normalize=True)\n",
    "\n",
    "# Map frequencies to categories\n",
    "df_WA['MM_Encoded'] = df_WA['MM'].map(frequency_map)\n",
    "df_WA = df_WA.drop(columns=['Make', 'Model', 'MM'])"
   ]
  },
  {
   "cell_type": "code",
   "execution_count": 32,
   "id": "af54b867",
   "metadata": {},
   "outputs": [
    {
     "data": {
      "text/html": [
       "<div>\n",
       "<style scoped>\n",
       "    .dataframe tbody tr th:only-of-type {\n",
       "        vertical-align: middle;\n",
       "    }\n",
       "\n",
       "    .dataframe tbody tr th {\n",
       "        vertical-align: top;\n",
       "    }\n",
       "\n",
       "    .dataframe thead th {\n",
       "        text-align: right;\n",
       "    }\n",
       "</style>\n",
       "<table border=\"1\" class=\"dataframe\">\n",
       "  <thead>\n",
       "    <tr style=\"text-align: right;\">\n",
       "      <th></th>\n",
       "      <th>ModYr</th>\n",
       "      <th>EVType</th>\n",
       "      <th>CAFV</th>\n",
       "      <th>EleRange</th>\n",
       "      <th>MM_Encoded</th>\n",
       "    </tr>\n",
       "  </thead>\n",
       "  <tbody>\n",
       "    <tr>\n",
       "      <th>0</th>\n",
       "      <td>2014</td>\n",
       "      <td>Battery Electric Vehicle (BEV)</td>\n",
       "      <td>Clean Alternative Fuel Vehicle Eligible</td>\n",
       "      <td>87</td>\n",
       "      <td>0.004813</td>\n",
       "    </tr>\n",
       "    <tr>\n",
       "      <th>1</th>\n",
       "      <td>2017</td>\n",
       "      <td>Battery Electric Vehicle (BEV)</td>\n",
       "      <td>Clean Alternative Fuel Vehicle Eligible</td>\n",
       "      <td>200</td>\n",
       "      <td>0.032541</td>\n",
       "    </tr>\n",
       "    <tr>\n",
       "      <th>2</th>\n",
       "      <td>2023</td>\n",
       "      <td>Plug-in Hybrid Electric Vehicle (PHEV)</td>\n",
       "      <td>Not eligible due to low battery range</td>\n",
       "      <td>20</td>\n",
       "      <td>0.002572</td>\n",
       "    </tr>\n",
       "    <tr>\n",
       "      <th>3</th>\n",
       "      <td>2023</td>\n",
       "      <td>Battery Electric Vehicle (BEV)</td>\n",
       "      <td>Eligibility unknown as battery range has not b...</td>\n",
       "      <td>0</td>\n",
       "      <td>0.009740</td>\n",
       "    </tr>\n",
       "    <tr>\n",
       "      <th>4</th>\n",
       "      <td>2020</td>\n",
       "      <td>Battery Electric Vehicle (BEV)</td>\n",
       "      <td>Clean Alternative Fuel Vehicle Eligible</td>\n",
       "      <td>322</td>\n",
       "      <td>0.173323</td>\n",
       "    </tr>\n",
       "  </tbody>\n",
       "</table>\n",
       "</div>"
      ],
      "text/plain": [
       "   ModYr                                  EVType  \\\n",
       "0   2014          Battery Electric Vehicle (BEV)   \n",
       "1   2017          Battery Electric Vehicle (BEV)   \n",
       "2   2023  Plug-in Hybrid Electric Vehicle (PHEV)   \n",
       "3   2023          Battery Electric Vehicle (BEV)   \n",
       "4   2020          Battery Electric Vehicle (BEV)   \n",
       "\n",
       "                                                CAFV  EleRange  MM_Encoded  \n",
       "0            Clean Alternative Fuel Vehicle Eligible        87    0.004813  \n",
       "1            Clean Alternative Fuel Vehicle Eligible       200    0.032541  \n",
       "2              Not eligible due to low battery range        20    0.002572  \n",
       "3  Eligibility unknown as battery range has not b...         0    0.009740  \n",
       "4            Clean Alternative Fuel Vehicle Eligible       322    0.173323  "
      ]
     },
     "execution_count": 32,
     "metadata": {},
     "output_type": "execute_result"
    }
   ],
   "source": [
    "df_WA.head()"
   ]
  },
  {
   "cell_type": "markdown",
   "id": "08f38135",
   "metadata": {},
   "source": [
    "**EVType column**"
   ]
  },
  {
   "cell_type": "code",
   "execution_count": 33,
   "id": "f2ad86cb",
   "metadata": {},
   "outputs": [
    {
     "data": {
      "text/plain": [
       "array(['Battery Electric Vehicle (BEV)',\n",
       "       'Plug-in Hybrid Electric Vehicle (PHEV)'], dtype=object)"
      ]
     },
     "execution_count": 33,
     "metadata": {},
     "output_type": "execute_result"
    }
   ],
   "source": [
    "df_WA['EVType'].unique()"
   ]
  },
  {
   "cell_type": "code",
   "execution_count": 34,
   "id": "3cd0183c",
   "metadata": {},
   "outputs": [
    {
     "data": {
      "text/html": [
       "<div>\n",
       "<style scoped>\n",
       "    .dataframe tbody tr th:only-of-type {\n",
       "        vertical-align: middle;\n",
       "    }\n",
       "\n",
       "    .dataframe tbody tr th {\n",
       "        vertical-align: top;\n",
       "    }\n",
       "\n",
       "    .dataframe thead th {\n",
       "        text-align: right;\n",
       "    }\n",
       "</style>\n",
       "<table border=\"1\" class=\"dataframe\">\n",
       "  <thead>\n",
       "    <tr style=\"text-align: right;\">\n",
       "      <th></th>\n",
       "      <th>ModYr</th>\n",
       "      <th>CAFV</th>\n",
       "      <th>EleRange</th>\n",
       "      <th>MM_Encoded</th>\n",
       "      <th>EVType_Battery Electric Vehicle (BEV)</th>\n",
       "      <th>EVType_Plug-in Hybrid Electric Vehicle (PHEV)</th>\n",
       "    </tr>\n",
       "  </thead>\n",
       "  <tbody>\n",
       "    <tr>\n",
       "      <th>0</th>\n",
       "      <td>2014.0</td>\n",
       "      <td>Clean Alternative Fuel Vehicle Eligible</td>\n",
       "      <td>87.0</td>\n",
       "      <td>0.004813</td>\n",
       "      <td>1.0</td>\n",
       "      <td>0.0</td>\n",
       "    </tr>\n",
       "    <tr>\n",
       "      <th>1</th>\n",
       "      <td>2017.0</td>\n",
       "      <td>Clean Alternative Fuel Vehicle Eligible</td>\n",
       "      <td>200.0</td>\n",
       "      <td>0.032541</td>\n",
       "      <td>1.0</td>\n",
       "      <td>0.0</td>\n",
       "    </tr>\n",
       "    <tr>\n",
       "      <th>2</th>\n",
       "      <td>2023.0</td>\n",
       "      <td>Not eligible due to low battery range</td>\n",
       "      <td>20.0</td>\n",
       "      <td>0.002572</td>\n",
       "      <td>0.0</td>\n",
       "      <td>1.0</td>\n",
       "    </tr>\n",
       "    <tr>\n",
       "      <th>3</th>\n",
       "      <td>2023.0</td>\n",
       "      <td>Eligibility unknown as battery range has not b...</td>\n",
       "      <td>0.0</td>\n",
       "      <td>0.009740</td>\n",
       "      <td>1.0</td>\n",
       "      <td>0.0</td>\n",
       "    </tr>\n",
       "    <tr>\n",
       "      <th>4</th>\n",
       "      <td>2020.0</td>\n",
       "      <td>Clean Alternative Fuel Vehicle Eligible</td>\n",
       "      <td>322.0</td>\n",
       "      <td>0.173323</td>\n",
       "      <td>1.0</td>\n",
       "      <td>0.0</td>\n",
       "    </tr>\n",
       "  </tbody>\n",
       "</table>\n",
       "</div>"
      ],
      "text/plain": [
       "    ModYr                                               CAFV  EleRange  \\\n",
       "0  2014.0            Clean Alternative Fuel Vehicle Eligible      87.0   \n",
       "1  2017.0            Clean Alternative Fuel Vehicle Eligible     200.0   \n",
       "2  2023.0              Not eligible due to low battery range      20.0   \n",
       "3  2023.0  Eligibility unknown as battery range has not b...       0.0   \n",
       "4  2020.0            Clean Alternative Fuel Vehicle Eligible     322.0   \n",
       "\n",
       "   MM_Encoded  EVType_Battery Electric Vehicle (BEV)  \\\n",
       "0    0.004813                                    1.0   \n",
       "1    0.032541                                    1.0   \n",
       "2    0.002572                                    0.0   \n",
       "3    0.009740                                    1.0   \n",
       "4    0.173323                                    1.0   \n",
       "\n",
       "   EVType_Plug-in Hybrid Electric Vehicle (PHEV)  \n",
       "0                                            0.0  \n",
       "1                                            0.0  \n",
       "2                                            1.0  \n",
       "3                                            0.0  \n",
       "4                                            0.0  "
      ]
     },
     "execution_count": 34,
     "metadata": {},
     "output_type": "execute_result"
    }
   ],
   "source": [
    "ohe = OneHotEncoder()\n",
    "\n",
    "# Encode 'EVType' column\n",
    "encoded_features = ohe.fit_transform(df_WA[['EVType']])\n",
    "# Conver 'EVType' column into a DataFrame\n",
    "encoded_df = pd.DataFrame(encoded_features.toarray(), columns=ohe.get_feature_names_out(['EVType']))\n",
    "\n",
    "# Concatenate\n",
    "df_encoded = pd.concat([df_WA, encoded_df], axis=1)\n",
    "# Drop the original column\n",
    "df_encoded.drop(['EVType'], axis=1, inplace=True)\n",
    "\n",
    "df_encoded.head()"
   ]
  },
  {
   "cell_type": "markdown",
   "id": "c67f7316",
   "metadata": {},
   "source": [
    "**CAFV column: Target**"
   ]
  },
  {
   "cell_type": "code",
   "execution_count": 35,
   "id": "e95e273d",
   "metadata": {},
   "outputs": [
    {
     "data": {
      "text/html": [
       "<div>\n",
       "<style scoped>\n",
       "    .dataframe tbody tr th:only-of-type {\n",
       "        vertical-align: middle;\n",
       "    }\n",
       "\n",
       "    .dataframe tbody tr th {\n",
       "        vertical-align: top;\n",
       "    }\n",
       "\n",
       "    .dataframe thead th {\n",
       "        text-align: right;\n",
       "    }\n",
       "</style>\n",
       "<table border=\"1\" class=\"dataframe\">\n",
       "  <thead>\n",
       "    <tr style=\"text-align: right;\">\n",
       "      <th></th>\n",
       "      <th>ModYr</th>\n",
       "      <th>EleRange</th>\n",
       "      <th>MM_Encoded</th>\n",
       "      <th>EVType_Battery Electric Vehicle (BEV)</th>\n",
       "      <th>EVType_Plug-in Hybrid Electric Vehicle (PHEV)</th>\n",
       "      <th>CAFV_encoded</th>\n",
       "    </tr>\n",
       "  </thead>\n",
       "  <tbody>\n",
       "    <tr>\n",
       "      <th>0</th>\n",
       "      <td>2014.0</td>\n",
       "      <td>87.0</td>\n",
       "      <td>0.004813</td>\n",
       "      <td>1.0</td>\n",
       "      <td>0.0</td>\n",
       "      <td>0</td>\n",
       "    </tr>\n",
       "    <tr>\n",
       "      <th>1</th>\n",
       "      <td>2017.0</td>\n",
       "      <td>200.0</td>\n",
       "      <td>0.032541</td>\n",
       "      <td>1.0</td>\n",
       "      <td>0.0</td>\n",
       "      <td>0</td>\n",
       "    </tr>\n",
       "    <tr>\n",
       "      <th>2</th>\n",
       "      <td>2023.0</td>\n",
       "      <td>20.0</td>\n",
       "      <td>0.002572</td>\n",
       "      <td>0.0</td>\n",
       "      <td>1.0</td>\n",
       "      <td>2</td>\n",
       "    </tr>\n",
       "    <tr>\n",
       "      <th>3</th>\n",
       "      <td>2023.0</td>\n",
       "      <td>0.0</td>\n",
       "      <td>0.009740</td>\n",
       "      <td>1.0</td>\n",
       "      <td>0.0</td>\n",
       "      <td>1</td>\n",
       "    </tr>\n",
       "    <tr>\n",
       "      <th>4</th>\n",
       "      <td>2020.0</td>\n",
       "      <td>322.0</td>\n",
       "      <td>0.173323</td>\n",
       "      <td>1.0</td>\n",
       "      <td>0.0</td>\n",
       "      <td>0</td>\n",
       "    </tr>\n",
       "  </tbody>\n",
       "</table>\n",
       "</div>"
      ],
      "text/plain": [
       "    ModYr  EleRange  MM_Encoded  EVType_Battery Electric Vehicle (BEV)  \\\n",
       "0  2014.0      87.0    0.004813                                    1.0   \n",
       "1  2017.0     200.0    0.032541                                    1.0   \n",
       "2  2023.0      20.0    0.002572                                    0.0   \n",
       "3  2023.0       0.0    0.009740                                    1.0   \n",
       "4  2020.0     322.0    0.173323                                    1.0   \n",
       "\n",
       "   EVType_Plug-in Hybrid Electric Vehicle (PHEV)  CAFV_encoded  \n",
       "0                                            0.0             0  \n",
       "1                                            0.0             0  \n",
       "2                                            1.0             2  \n",
       "3                                            0.0             1  \n",
       "4                                            0.0             0  "
      ]
     },
     "execution_count": 35,
     "metadata": {},
     "output_type": "execute_result"
    }
   ],
   "source": [
    "le = LabelEncoder()\n",
    "\n",
    "df_encoded['CAFV_encoded'] = le.fit_transform(df_encoded[['CAFV']])\n",
    "df_encoded = df_encoded.drop(columns='CAFV')\n",
    "\n",
    "df_encoded.head()"
   ]
  },
  {
   "cell_type": "markdown",
   "id": "1c5641e8",
   "metadata": {},
   "source": [
    "0: Clean Alternative Fuel Vehicle Eligible\n",
    "1: Eligibility unknown as battery range has not been researched\n",
    "2: Not eligible due to low battery range"
   ]
  },
  {
   "cell_type": "markdown",
   "id": "dde149f0",
   "metadata": {
    "id": "dde149f0"
   },
   "source": [
    "## Visualization"
   ]
  },
  {
   "cell_type": "code",
   "execution_count": 36,
   "id": "05141947",
   "metadata": {
    "id": "p_YyanWu3j4Q"
   },
   "outputs": [
    {
     "data": {
      "text/plain": [
       "<seaborn.axisgrid.PairGrid at 0x147eff510>"
      ]
     },
     "execution_count": 36,
     "metadata": {},
     "output_type": "execute_result"
    },
    {
     "data": {
      "image/png": "[encoded data removed]",
      "text/plain": [
       "<Figure size 750x750 with 12 Axes>"
      ]
     },
     "metadata": {},
     "output_type": "display_data"
    }
   ],
   "source": [
    "sns.pairplot(df_WA)"
   ]
  },
  {
   "cell_type": "code",
   "execution_count": 37,
   "id": "b8c143e6",
   "metadata": {
    "id": "b8c143e6",
    "outputId": "994b7e44-6ccf-43ba-945f-f2e48cd3b13c"
   },
   "outputs": [
    {
     "data": {
      "image/png": "[encoded data removed]",
      "text/plain": [
       "<Figure size 1000x600 with 1 Axes>"
      ]
     },
     "metadata": {},
     "output_type": "display_data"
    }
   ],
   "source": [
    "plt.figure(figsize=(10, 6))\n",
    "sns.countplot(x='EVType', hue='CAFV', data=df, palette='coolwarm')\n",
    "plt.title('CAFV Eligibility for each EV Type')\n",
    "plt.xlabel('EV Type')\n",
    "plt.ylabel('Count')\n",
    "plt.legend(title='CAFV Eligibility', loc='upper right')\n",
    "\n",
    "# Separation line between the EV Type\n",
    "for i in range(len(df['EVType'].unique()) - 1):\n",
    "    plt.axvline(x=i + 0.5, color='gray', linestyle='--', linewidth=0.5)\n",
    "\n",
    "plt.tight_layout()\n",
    "plt.show()"
   ]
  },
  {
   "cell_type": "code",
   "execution_count": 38,
   "id": "59765e17",
   "metadata": {
    "id": "59765e17",
    "outputId": "81479c2b-9183-496d-f0b3-a0e55ddb047e"
   },
   "outputs": [
    {
     "data": {
      "image/png": "[encoded data removed]",
      "text/plain": [
       "<Figure size 1200x600 with 1 Axes>"
      ]
     },
     "metadata": {},
     "output_type": "display_data"
    }
   ],
   "source": [
    "# Used original df for visualization purpose\n",
    "\n",
    "# Get the top 10 brands by count\n",
    "top_10_brands = df['Make'].value_counts().nlargest(10).index\n",
    "\n",
    "# Filter the DataFrame to include only the top 10 brands\n",
    "df_top_10 = df[df['Make'].isin(top_10_brands)]\n",
    "\n",
    "# Create the countplot\n",
    "plt.figure(figsize=(12, 6))\n",
    "sns.countplot(x='Make', hue='CAFV', data=df_top_10, palette='coolwarm')\n",
    "plt.title('CAFV Eligibility for Top 10 Brands')\n",
    "plt.xlabel('Make')\n",
    "plt.ylabel('Count')\n",
    "plt.legend(title='CAFV Eligibility', loc='upper right')\n",
    "\n",
    "# Separation line between the brands\n",
    "for i in range(len(top_10_brands) - 1):\n",
    "    plt.axvline(x=i + 0.5, color='gray', linestyle='--', linewidth=0.5)\n",
    "\n",
    "plt.xticks(rotation=45)  # Rotate x-axis labels for better readability\n",
    "plt.tight_layout()\n",
    "plt.show()"
   ]
  },
  {
   "cell_type": "code",
   "execution_count": 39,
   "id": "0eccd7b1",
   "metadata": {},
   "outputs": [
    {
     "data": {
      "image/png": "[encoded data removed]",
      "text/plain": [
       "<Figure size 800x600 with 2 Axes>"
      ]
     },
     "metadata": {},
     "output_type": "display_data"
    }
   ],
   "source": [
    "df_corr = df_encoded.corr()\n",
    "\n",
    "plt.figure(figsize=(8, 6))\n",
    "sns.heatmap(df_corr, annot=True, cmap='coolwarm', fmt=\".2f\", linewidths=.5)\n",
    "plt.title('Correlation Matrix Heatmap')\n",
    "plt.show()"
   ]
  }
 ],
 "metadata": {
  "colab": {
   "provenance": []
  },
  "kernelspec": {
   "display_name": "Python 3 (ipykernel)",
   "language": "python",
   "name": "python3"
  },
  "language_info": {
   "codemirror_mode": {
    "name": "ipython",
    "version": 3
   },
   "file_extension": ".py",
   "mimetype": "text/x-python",
   "name": "python",
   "nbconvert_exporter": "python",
   "pygments_lexer": "ipython3",
   "version": "3.11.5"
  }
 },
 "nbformat": 4,
 "nbformat_minor": 5
}
